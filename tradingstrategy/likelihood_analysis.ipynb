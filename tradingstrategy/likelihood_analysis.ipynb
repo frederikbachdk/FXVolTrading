{
 "cells": [
  {
   "cell_type": "code",
   "execution_count": 4,
   "metadata": {},
   "outputs": [
    {
     "name": "stdout",
     "output_type": "stream",
     "text": [
      "The autoreload extension is already loaded. To reload it, use:\n",
      "  %reload_ext autoreload\n"
     ]
    }
   ],
   "source": [
    "import numpy as np\n",
    "import pandas as pd\n",
    "from arch import arch_model\n",
    "import matplotlib.pyplot as plt\n",
    "\n",
    "# local module\n",
    "from data_cleaning.import_data import import_data\n",
    "\n",
    "# autoreload modules when code is run\n",
    "%load_ext autoreload\n",
    "%autoreload 2"
   ]
  },
  {
   "cell_type": "code",
   "execution_count": 8,
   "metadata": {},
   "outputs": [
    {
     "name": "stdout",
     "output_type": "stream",
     "text": [
      "Iteration:      1,   Func. Count:      7,   Neg. LLF: 10201789.313431647\n",
      "Iteration:      2,   Func. Count:     19,   Neg. LLF: 2412849.7652873467\n",
      "Iteration:      3,   Func. Count:     26,   Neg. LLF: 4363.920600682989\n",
      "Iteration:      4,   Func. Count:     33,   Neg. LLF: 3767.9580617636343\n",
      "Iteration:      5,   Func. Count:     40,   Neg. LLF: 22283570.17411296\n",
      "Iteration:      6,   Func. Count:     51,   Neg. LLF: 473476.3722650794\n",
      "Iteration:      7,   Func. Count:     59,   Neg. LLF: 3544.192942511768\n",
      "Iteration:      8,   Func. Count:     65,   Neg. LLF: 11666.829048565956\n",
      "Iteration:      9,   Func. Count:     74,   Neg. LLF: 154305.9536041543\n",
      "Iteration:     10,   Func. Count:     82,   Neg. LLF: 3961.900799743513\n",
      "Iteration:     11,   Func. Count:     89,   Neg. LLF: 3382.7225151604894\n",
      "Iteration:     12,   Func. Count:     95,   Neg. LLF: 3386.0444058227795\n",
      "Iteration:     13,   Func. Count:    102,   Neg. LLF: 3385.0149993233026\n",
      "Iteration:     14,   Func. Count:    110,   Neg. LLF: 3452.004123341508\n",
      "Iteration:     15,   Func. Count:    117,   Neg. LLF: 3388.1010990026734\n",
      "Iteration:     16,   Func. Count:    124,   Neg. LLF: 17990.684757409326\n",
      "Iteration:     17,   Func. Count:    135,   Neg. LLF: 82232.25718411915\n",
      "Iteration:     18,   Func. Count:    144,   Neg. LLF: 3391.1365850676293\n",
      "Iteration:     19,   Func. Count:    151,   Neg. LLF: 3388.3467139988807\n",
      "Iteration:     20,   Func. Count:    165,   Neg. LLF: 3383.774974285459\n",
      "Iteration:     21,   Func. Count:    181,   Neg. LLF: 3383.0519547356944\n",
      "Iteration:     22,   Func. Count:    188,   Neg. LLF: 3384.101909934246\n",
      "Iteration:     23,   Func. Count:    195,   Neg. LLF: 3384.0329488805824\n",
      "Iteration:     24,   Func. Count:    201,   Neg. LLF: 3384.3626351886105\n",
      "Iteration:     25,   Func. Count:    208,   Neg. LLF: 3383.9918622049922\n",
      "Iteration:     26,   Func. Count:    214,   Neg. LLF: 3383.9897494259703\n",
      "Iteration:     27,   Func. Count:    220,   Neg. LLF: 3383.9828499370497\n",
      "Iteration:     28,   Func. Count:    226,   Neg. LLF: 3687.3548094802863\n",
      "Iteration:     29,   Func. Count:    239,   Neg. LLF: 3464.431881007393\n",
      "Iteration:     30,   Func. Count:    255,   Neg. LLF: 3604.67734517701\n",
      "Iteration:     31,   Func. Count:    271,   Neg. LLF: 3464.8667904364424\n",
      "Iteration:     32,   Func. Count:    287,   Neg. LLF: 3557.8891321336596\n",
      "Iteration:     33,   Func. Count:    302,   Neg. LLF: 3383.982804595901\n",
      "Optimization terminated successfully    (Exit mode 0)\n",
      "            Current function value: 3383.9828478701284\n",
      "            Iterations: 37\n",
      "            Function evaluations: 302\n",
      "            Gradient evaluations: 33\n"
     ]
    },
    {
     "data": {
      "text/plain": [
       "                           AR - GARCH Model Results                           \n",
       "==============================================================================\n",
       "Dep. Variable:                log_ret   R-squared:                       0.000\n",
       "Mean Model:                        AR   Adj. R-squared:                  0.000\n",
       "Vol Model:                      GARCH   Log-Likelihood:               -3383.98\n",
       "Distribution:                  Normal   AIC:                           6777.97\n",
       "Method:            Maximum Likelihood   BIC:                           6811.26\n",
       "                                        No. Observations:                 5760\n",
       "Date:                Sun, Mar 06 2022   Df Residuals:                     5759\n",
       "Time:                        11:12:38   Df Model:                            1\n",
       "                                  Mean Model                                 \n",
       "=============================================================================\n",
       "                 coef    std err          t      P>|t|       95.0% Conf. Int.\n",
       "-----------------------------------------------------------------------------\n",
       "Const      2.6858e-03  3.141e-03      0.855      0.393 [-3.471e-03,8.843e-03]\n",
       "                               Volatility Model                              \n",
       "=============================================================================\n",
       "                 coef    std err          t      P>|t|       95.0% Conf. Int.\n",
       "-----------------------------------------------------------------------------\n",
       "omega      3.0718e-04  1.599e-04      1.921  5.471e-02 [-6.200e-06,6.206e-04]\n",
       "alpha[1]       0.0763  1.804e-02      4.229  2.349e-05    [4.092e-02,  0.112]\n",
       "alpha[2]   2.3650e-10  2.095e-02  1.129e-08      1.000 [-4.107e-02,4.107e-02]\n",
       "beta[1]        0.9237  1.142e-02     80.883      0.000      [  0.901,  0.946]\n",
       "=============================================================================\n",
       "\n",
       "Covariance estimator: robust\n",
       "ARCHModelResult, id: 0x7fcf8c82ceb0"
      ]
     },
     "execution_count": 8,
     "metadata": {},
     "output_type": "execute_result"
    }
   ],
   "source": [
    "# Load return data\n",
    "df = import_data(fx_pair='USDRUB')\n",
    "df = df['log_ret'] * 100\n",
    "df = df.iloc[17:]\n",
    "\n",
    "model = arch_model(df, mean='AR', vol='GARCH', p=2,q=1, dist = 'Gaussian')\n",
    "model_fit = model.fit()\n",
    "model_fit"
   ]
  },
  {
   "cell_type": "code",
   "execution_count": 9,
   "metadata": {},
   "outputs": [
    {
     "data": {
      "image/png": "[encoded data removed]",
      "text/plain": [
       "<Figure size 432x288 with 2 Axes>"
      ]
     },
     "metadata": {
      "needs_background": "light"
     },
     "output_type": "display_data"
    }
   ],
   "source": [
    "fig = model_fit.plot(annualize=\"D\")"
   ]
  },
  {
   "cell_type": "code",
   "execution_count": 12,
   "metadata": {},
   "outputs": [
    {
     "data": {
      "text/plain": [
       "Dates\n",
       "2000-01-26    0.233545\n",
       "2000-01-27   -0.107608\n",
       "2000-01-28    0.198319\n",
       "2000-01-31   -0.002686\n",
       "2000-02-01   -0.247441\n",
       "                ...   \n",
       "2022-02-16   -0.131473\n",
       "2022-02-17    1.380172\n",
       "2022-02-18    1.323689\n",
       "2022-02-21    3.074645\n",
       "2022-02-22    1.035001\n",
       "Name: resid, Length: 5760, dtype: float64"
      ]
     },
     "execution_count": 12,
     "metadata": {},
     "output_type": "execute_result"
    }
   ],
   "source": [
    "standardized_res = model_fit.resid"
   ]
  },
  {
   "cell_type": "code",
   "execution_count": null,
   "metadata": {},
   "outputs": [],
   "source": []
  }
 ],
 "metadata": {
  "interpreter": {
   "hash": "4f1fbba2f632f7245b98016db17340add9a90b359912856f9dd7aa09d13b32b3"
  },
  "kernelspec": {
   "display_name": "Python 3.8.5 ('base')",
   "language": "python",
   "name": "python3"
  },
  "language_info": {
   "codemirror_mode": {
    "name": "ipython",
    "version": 3
   },
   "file_extension": ".py",
   "mimetype": "text/x-python",
   "name": "python",
   "nbconvert_exporter": "python",
   "pygments_lexer": "ipython3",
   "version": "3.8.5"
  },
  "orig_nbformat": 4
 },
 "nbformat": 4,
 "nbformat_minor": 2
}
