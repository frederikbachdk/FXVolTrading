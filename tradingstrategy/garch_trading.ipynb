{
 "cells": [
  {
   "cell_type": "markdown",
   "metadata": {},
   "source": [
    "# FX vol trading strategy - implementation"
   ]
  },
  {
   "cell_type": "code",
   "execution_count": null,
   "metadata": {},
   "outputs": [],
   "source": [
    "# Import libraries\n",
    "import pandas as pd\n",
    "import numpy as np"
   ]
  },
  {
   "cell_type": "markdown",
   "metadata": {},
   "source": [
    "### Algorithm description (WIP..)\n",
    "\n",
    "1) For a given trading pair, say USDRUB, fit the appropriate GARCH model for time t = 0 until time t = T\n",
    "2) Standing at time T, forecast the 30-day volatility. If the forecast is above market pricing, enter long straddle, if below then enter a short straddle. If not signficantly different, do nothing. "
   ]
  }
 ],
 "metadata": {
  "language_info": {
   "name": "python"
  },
  "orig_nbformat": 4
 },
 "nbformat": 4,
 "nbformat_minor": 2
}
