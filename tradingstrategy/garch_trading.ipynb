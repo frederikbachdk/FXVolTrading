{
 "cells": [
  {
   "cell_type": "markdown",
   "metadata": {},
   "source": [
    "# FX vol trading strategy - implementation"
   ]
  },
  {
   "cell_type": "code",
   "execution_count": 1,
   "metadata": {},
   "outputs": [],
   "source": [
    "# Import libraries\n",
    "import pandas as pd\n",
    "import numpy as np\n",
    "from data_cleaning.import_data import import_data\n",
    "from utils.garch import get_rolling_vol_forecasts\n",
    "from arch import arch_model\n",
    "\n",
    "# autoreload modules when code is run\n",
    "%load_ext autoreload\n",
    "%autoreload 2"
   ]
  },
  {
   "cell_type": "markdown",
   "metadata": {},
   "source": [
    "### Algorithm description (WIP..)\n",
    "\n",
    "1) For a given trading pair, say USDRUB, fit the appropriate GARCH model for time t = 0 until time t = T\n",
    "2) Standing at time T, forecast the 30-day volatility. If the forecast is above market pricing, enter long straddle, if below then enter a short straddle. If not signficantly different, do nothing. "
   ]
  },
  {
   "cell_type": "code",
   "execution_count": 2,
   "metadata": {},
   "outputs": [],
   "source": [
    "# Load return data\n",
    "df = import_data(fx_pair='USDRUB')\n",
    "df.dropna(inplace=True)\n",
    "returns = df['log_ret'] * 100\n",
    "\n",
    "# arch model\n",
    "model = arch_model(returns, mean='AR', vol='GARCH', p=2,q=1, dist = 'Gaussian')\n"
   ]
  },
  {
   "cell_type": "code",
   "execution_count": 6,
   "metadata": {},
   "outputs": [
    {
     "name": "stdout",
     "output_type": "stream",
     "text": [
      "................"
     ]
    },
    {
     "name": "stderr",
     "output_type": "stream",
     "text": [
      "/Users/frederikp/opt/anaconda3/lib/python3.8/site-packages/arch/univariate/base.py:753: ConvergenceWarning: The optimizer returned code 8. The message is:\n",
      "Positive directional derivative for linesearch\n",
      "See scipy.optimize.fmin_slsqp for code meaning.\n",
      "\n",
      "  warnings.warn(\n"
     ]
    },
    {
     "name": "stdout",
     "output_type": "stream",
     "text": [
      "........"
     ]
    },
    {
     "name": "stderr",
     "output_type": "stream",
     "text": [
      "/Users/frederikp/opt/anaconda3/lib/python3.8/site-packages/arch/univariate/base.py:753: ConvergenceWarning: The optimizer returned code 8. The message is:\n",
      "Positive directional derivative for linesearch\n",
      "See scipy.optimize.fmin_slsqp for code meaning.\n",
      "\n",
      "  warnings.warn(\n"
     ]
    },
    {
     "name": "stdout",
     "output_type": "stream",
     "text": [
      "....."
     ]
    },
    {
     "name": "stderr",
     "output_type": "stream",
     "text": [
      "/Users/frederikp/opt/anaconda3/lib/python3.8/site-packages/arch/univariate/base.py:753: ConvergenceWarning: The optimizer returned code 8. The message is:\n",
      "Positive directional derivative for linesearch\n",
      "See scipy.optimize.fmin_slsqp for code meaning.\n",
      "\n",
      "  warnings.warn(\n",
      "/Users/frederikp/opt/anaconda3/lib/python3.8/site-packages/arch/univariate/base.py:753: ConvergenceWarning: The optimizer returned code 8. The message is:\n",
      "Positive directional derivative for linesearch\n",
      "See scipy.optimize.fmin_slsqp for code meaning.\n",
      "\n",
      "  warnings.warn(\n"
     ]
    },
    {
     "name": "stdout",
     "output_type": "stream",
     "text": [
      ".............."
     ]
    },
    {
     "name": "stderr",
     "output_type": "stream",
     "text": [
      "/Users/frederikp/opt/anaconda3/lib/python3.8/site-packages/arch/univariate/base.py:753: ConvergenceWarning: The optimizer returned code 8. The message is:\n",
      "Positive directional derivative for linesearch\n",
      "See scipy.optimize.fmin_slsqp for code meaning.\n",
      "\n",
      "  warnings.warn(\n"
     ]
    },
    {
     "name": "stdout",
     "output_type": "stream",
     "text": [
      "........"
     ]
    },
    {
     "name": "stderr",
     "output_type": "stream",
     "text": [
      "/Users/frederikp/opt/anaconda3/lib/python3.8/site-packages/arch/univariate/base.py:753: ConvergenceWarning: The optimizer returned code 8. The message is:\n",
      "Positive directional derivative for linesearch\n",
      "See scipy.optimize.fmin_slsqp for code meaning.\n",
      "\n",
      "  warnings.warn(\n"
     ]
    },
    {
     "name": "stdout",
     "output_type": "stream",
     "text": [
      "................."
     ]
    },
    {
     "name": "stderr",
     "output_type": "stream",
     "text": [
      "/Users/frederikp/opt/anaconda3/lib/python3.8/site-packages/arch/univariate/base.py:753: ConvergenceWarning: The optimizer returned code 8. The message is:\n",
      "Positive directional derivative for linesearch\n",
      "See scipy.optimize.fmin_slsqp for code meaning.\n",
      "\n",
      "  warnings.warn(\n"
     ]
    },
    {
     "name": "stdout",
     "output_type": "stream",
     "text": [
      "......................."
     ]
    },
    {
     "name": "stderr",
     "output_type": "stream",
     "text": [
      "/Users/frederikp/opt/anaconda3/lib/python3.8/site-packages/arch/univariate/base.py:753: ConvergenceWarning: The optimizer returned code 8. The message is:\n",
      "Positive directional derivative for linesearch\n",
      "See scipy.optimize.fmin_slsqp for code meaning.\n",
      "\n",
      "  warnings.warn(\n"
     ]
    },
    {
     "name": "stdout",
     "output_type": "stream",
     "text": [
      "...................."
     ]
    },
    {
     "name": "stderr",
     "output_type": "stream",
     "text": [
      "/Users/frederikp/opt/anaconda3/lib/python3.8/site-packages/arch/univariate/base.py:753: ConvergenceWarning: The optimizer returned code 8. The message is:\n",
      "Positive directional derivative for linesearch\n",
      "See scipy.optimize.fmin_slsqp for code meaning.\n",
      "\n",
      "  warnings.warn(\n"
     ]
    },
    {
     "name": "stdout",
     "output_type": "stream",
     "text": [
      "......."
     ]
    },
    {
     "name": "stderr",
     "output_type": "stream",
     "text": [
      "/Users/frederikp/opt/anaconda3/lib/python3.8/site-packages/arch/univariate/base.py:753: ConvergenceWarning: The optimizer returned code 8. The message is:\n",
      "Positive directional derivative for linesearch\n",
      "See scipy.optimize.fmin_slsqp for code meaning.\n",
      "\n",
      "  warnings.warn(\n"
     ]
    },
    {
     "name": "stdout",
     "output_type": "stream",
     "text": [
      "............."
     ]
    },
    {
     "name": "stderr",
     "output_type": "stream",
     "text": [
      "/Users/frederikp/opt/anaconda3/lib/python3.8/site-packages/arch/univariate/base.py:753: ConvergenceWarning: The optimizer returned code 8. The message is:\n",
      "Positive directional derivative for linesearch\n",
      "See scipy.optimize.fmin_slsqp for code meaning.\n",
      "\n",
      "  warnings.warn(\n",
      "/Users/frederikp/opt/anaconda3/lib/python3.8/site-packages/arch/univariate/base.py:753: ConvergenceWarning: The optimizer returned code 8. The message is:\n",
      "Positive directional derivative for linesearch\n",
      "See scipy.optimize.fmin_slsqp for code meaning.\n",
      "\n",
      "  warnings.warn(\n"
     ]
    },
    {
     "name": "stdout",
     "output_type": "stream",
     "text": [
      "....................."
     ]
    },
    {
     "name": "stderr",
     "output_type": "stream",
     "text": [
      "/Users/frederikp/opt/anaconda3/lib/python3.8/site-packages/arch/univariate/base.py:753: ConvergenceWarning: The optimizer returned code 8. The message is:\n",
      "Positive directional derivative for linesearch\n",
      "See scipy.optimize.fmin_slsqp for code meaning.\n",
      "\n",
      "  warnings.warn(\n"
     ]
    },
    {
     "name": "stdout",
     "output_type": "stream",
     "text": [
      "................"
     ]
    },
    {
     "name": "stderr",
     "output_type": "stream",
     "text": [
      "/Users/frederikp/opt/anaconda3/lib/python3.8/site-packages/arch/univariate/base.py:753: ConvergenceWarning: The optimizer returned code 8. The message is:\n",
      "Positive directional derivative for linesearch\n",
      "See scipy.optimize.fmin_slsqp for code meaning.\n",
      "\n",
      "  warnings.warn(\n",
      "/Users/frederikp/opt/anaconda3/lib/python3.8/site-packages/arch/univariate/base.py:753: ConvergenceWarning: The optimizer returned code 8. The message is:\n",
      "Positive directional derivative for linesearch\n",
      "See scipy.optimize.fmin_slsqp for code meaning.\n",
      "\n",
      "  warnings.warn(\n",
      "/Users/frederikp/opt/anaconda3/lib/python3.8/site-packages/arch/univariate/base.py:753: ConvergenceWarning: The optimizer returned code 8. The message is:\n",
      "Positive directional derivative for linesearch\n",
      "See scipy.optimize.fmin_slsqp for code meaning.\n",
      "\n",
      "  warnings.warn(\n",
      "/Users/frederikp/opt/anaconda3/lib/python3.8/site-packages/arch/univariate/base.py:753: ConvergenceWarning: The optimizer returned code 8. The message is:\n",
      "Positive directional derivative for linesearch\n",
      "See scipy.optimize.fmin_slsqp for code meaning.\n",
      "\n",
      "  warnings.warn(\n"
     ]
    },
    {
     "name": "stdout",
     "output_type": "stream",
     "text": [
      "......."
     ]
    },
    {
     "name": "stderr",
     "output_type": "stream",
     "text": [
      "/Users/frederikp/opt/anaconda3/lib/python3.8/site-packages/arch/univariate/base.py:753: ConvergenceWarning: The optimizer returned code 8. The message is:\n",
      "Positive directional derivative for linesearch\n",
      "See scipy.optimize.fmin_slsqp for code meaning.\n",
      "\n",
      "  warnings.warn(\n",
      "/Users/frederikp/opt/anaconda3/lib/python3.8/site-packages/arch/univariate/base.py:753: ConvergenceWarning: The optimizer returned code 8. The message is:\n",
      "Positive directional derivative for linesearch\n",
      "See scipy.optimize.fmin_slsqp for code meaning.\n",
      "\n",
      "  warnings.warn(\n"
     ]
    },
    {
     "name": "stdout",
     "output_type": "stream",
     "text": [
      "...."
     ]
    },
    {
     "name": "stderr",
     "output_type": "stream",
     "text": [
      "/Users/frederikp/opt/anaconda3/lib/python3.8/site-packages/arch/univariate/base.py:753: ConvergenceWarning: The optimizer returned code 8. The message is:\n",
      "Positive directional derivative for linesearch\n",
      "See scipy.optimize.fmin_slsqp for code meaning.\n",
      "\n",
      "  warnings.warn(\n",
      "/Users/frederikp/opt/anaconda3/lib/python3.8/site-packages/arch/univariate/base.py:753: ConvergenceWarning: The optimizer returned code 8. The message is:\n",
      "Positive directional derivative for linesearch\n",
      "See scipy.optimize.fmin_slsqp for code meaning.\n",
      "\n",
      "  warnings.warn(\n"
     ]
    },
    {
     "name": "stdout",
     "output_type": "stream",
     "text": [
      "..."
     ]
    },
    {
     "name": "stderr",
     "output_type": "stream",
     "text": [
      "/Users/frederikp/opt/anaconda3/lib/python3.8/site-packages/arch/univariate/base.py:753: ConvergenceWarning: The optimizer returned code 8. The message is:\n",
      "Positive directional derivative for linesearch\n",
      "See scipy.optimize.fmin_slsqp for code meaning.\n",
      "\n",
      "  warnings.warn(\n"
     ]
    },
    {
     "name": "stdout",
     "output_type": "stream",
     "text": [
      "...."
     ]
    },
    {
     "name": "stderr",
     "output_type": "stream",
     "text": [
      "/Users/frederikp/opt/anaconda3/lib/python3.8/site-packages/arch/univariate/base.py:753: ConvergenceWarning: The optimizer returned code 8. The message is:\n",
      "Positive directional derivative for linesearch\n",
      "See scipy.optimize.fmin_slsqp for code meaning.\n",
      "\n",
      "  warnings.warn(\n"
     ]
    },
    {
     "name": "stdout",
     "output_type": "stream",
     "text": [
      "....."
     ]
    },
    {
     "name": "stderr",
     "output_type": "stream",
     "text": [
      "/Users/frederikp/opt/anaconda3/lib/python3.8/site-packages/arch/univariate/base.py:753: ConvergenceWarning: The optimizer returned code 8. The message is:\n",
      "Positive directional derivative for linesearch\n",
      "See scipy.optimize.fmin_slsqp for code meaning.\n",
      "\n",
      "  warnings.warn(\n",
      "/Users/frederikp/opt/anaconda3/lib/python3.8/site-packages/arch/univariate/base.py:753: ConvergenceWarning: The optimizer returned code 8. The message is:\n",
      "Positive directional derivative for linesearch\n",
      "See scipy.optimize.fmin_slsqp for code meaning.\n",
      "\n",
      "  warnings.warn(\n"
     ]
    },
    {
     "name": "stdout",
     "output_type": "stream",
     "text": [
      "..........."
     ]
    },
    {
     "name": "stderr",
     "output_type": "stream",
     "text": [
      "/Users/frederikp/opt/anaconda3/lib/python3.8/site-packages/arch/univariate/base.py:753: ConvergenceWarning: The optimizer returned code 8. The message is:\n",
      "Positive directional derivative for linesearch\n",
      "See scipy.optimize.fmin_slsqp for code meaning.\n",
      "\n",
      "  warnings.warn(\n"
     ]
    },
    {
     "name": "stdout",
     "output_type": "stream",
     "text": [
      "...."
     ]
    },
    {
     "name": "stderr",
     "output_type": "stream",
     "text": [
      "/Users/frederikp/opt/anaconda3/lib/python3.8/site-packages/arch/univariate/base.py:753: ConvergenceWarning: The optimizer returned code 8. The message is:\n",
      "Positive directional derivative for linesearch\n",
      "See scipy.optimize.fmin_slsqp for code meaning.\n",
      "\n",
      "  warnings.warn(\n"
     ]
    },
    {
     "name": "stdout",
     "output_type": "stream",
     "text": [
      "........."
     ]
    },
    {
     "name": "stderr",
     "output_type": "stream",
     "text": [
      "/Users/frederikp/opt/anaconda3/lib/python3.8/site-packages/arch/univariate/base.py:753: ConvergenceWarning: The optimizer returned code 8. The message is:\n",
      "Positive directional derivative for linesearch\n",
      "See scipy.optimize.fmin_slsqp for code meaning.\n",
      "\n",
      "  warnings.warn(\n"
     ]
    },
    {
     "name": "stdout",
     "output_type": "stream",
     "text": [
      "............"
     ]
    },
    {
     "name": "stderr",
     "output_type": "stream",
     "text": [
      "/Users/frederikp/opt/anaconda3/lib/python3.8/site-packages/arch/univariate/base.py:753: ConvergenceWarning: The optimizer returned code 8. The message is:\n",
      "Positive directional derivative for linesearch\n",
      "See scipy.optimize.fmin_slsqp for code meaning.\n",
      "\n",
      "  warnings.warn(\n"
     ]
    },
    {
     "name": "stdout",
     "output_type": "stream",
     "text": [
      "......."
     ]
    },
    {
     "name": "stderr",
     "output_type": "stream",
     "text": [
      "/Users/frederikp/opt/anaconda3/lib/python3.8/site-packages/arch/univariate/base.py:753: ConvergenceWarning: The optimizer returned code 8. The message is:\n",
      "Positive directional derivative for linesearch\n",
      "See scipy.optimize.fmin_slsqp for code meaning.\n",
      "\n",
      "  warnings.warn(\n",
      "/Users/frederikp/opt/anaconda3/lib/python3.8/site-packages/arch/univariate/base.py:753: ConvergenceWarning: The optimizer returned code 8. The message is:\n",
      "Positive directional derivative for linesearch\n",
      "See scipy.optimize.fmin_slsqp for code meaning.\n",
      "\n",
      "  warnings.warn(\n"
     ]
    },
    {
     "name": "stdout",
     "output_type": "stream",
     "text": [
      "..............."
     ]
    },
    {
     "name": "stderr",
     "output_type": "stream",
     "text": [
      "/Users/frederikp/opt/anaconda3/lib/python3.8/site-packages/arch/univariate/base.py:753: ConvergenceWarning: The optimizer returned code 8. The message is:\n",
      "Positive directional derivative for linesearch\n",
      "See scipy.optimize.fmin_slsqp for code meaning.\n",
      "\n",
      "  warnings.warn(\n",
      "/Users/frederikp/opt/anaconda3/lib/python3.8/site-packages/arch/univariate/base.py:753: ConvergenceWarning: The optimizer returned code 8. The message is:\n",
      "Positive directional derivative for linesearch\n",
      "See scipy.optimize.fmin_slsqp for code meaning.\n",
      "\n",
      "  warnings.warn(\n",
      "/Users/frederikp/opt/anaconda3/lib/python3.8/site-packages/arch/univariate/base.py:753: ConvergenceWarning: The optimizer returned code 8. The message is:\n",
      "Positive directional derivative for linesearch\n",
      "See scipy.optimize.fmin_slsqp for code meaning.\n",
      "\n",
      "  warnings.warn(\n"
     ]
    },
    {
     "name": "stdout",
     "output_type": "stream",
     "text": [
      "......"
     ]
    },
    {
     "name": "stderr",
     "output_type": "stream",
     "text": [
      "/Users/frederikp/opt/anaconda3/lib/python3.8/site-packages/arch/univariate/base.py:753: ConvergenceWarning: The optimizer returned code 8. The message is:\n",
      "Positive directional derivative for linesearch\n",
      "See scipy.optimize.fmin_slsqp for code meaning.\n",
      "\n",
      "  warnings.warn(\n",
      "/Users/frederikp/opt/anaconda3/lib/python3.8/site-packages/arch/univariate/base.py:753: ConvergenceWarning: The optimizer returned code 8. The message is:\n",
      "Positive directional derivative for linesearch\n",
      "See scipy.optimize.fmin_slsqp for code meaning.\n",
      "\n",
      "  warnings.warn(\n",
      "/Users/frederikp/opt/anaconda3/lib/python3.8/site-packages/arch/univariate/base.py:753: ConvergenceWarning: The optimizer returned code 8. The message is:\n",
      "Positive directional derivative for linesearch\n",
      "See scipy.optimize.fmin_slsqp for code meaning.\n",
      "\n",
      "  warnings.warn(\n"
     ]
    },
    {
     "name": "stdout",
     "output_type": "stream",
     "text": [
      ".........."
     ]
    },
    {
     "name": "stderr",
     "output_type": "stream",
     "text": [
      "/Users/frederikp/opt/anaconda3/lib/python3.8/site-packages/arch/univariate/base.py:753: ConvergenceWarning: The optimizer returned code 8. The message is:\n",
      "Positive directional derivative for linesearch\n",
      "See scipy.optimize.fmin_slsqp for code meaning.\n",
      "\n",
      "  warnings.warn(\n"
     ]
    },
    {
     "name": "stdout",
     "output_type": "stream",
     "text": [
      ".........."
     ]
    },
    {
     "name": "stderr",
     "output_type": "stream",
     "text": [
      "/Users/frederikp/opt/anaconda3/lib/python3.8/site-packages/arch/univariate/base.py:753: ConvergenceWarning: The optimizer returned code 8. The message is:\n",
      "Positive directional derivative for linesearch\n",
      "See scipy.optimize.fmin_slsqp for code meaning.\n",
      "\n",
      "  warnings.warn(\n"
     ]
    },
    {
     "name": "stdout",
     "output_type": "stream",
     "text": [
      "....."
     ]
    },
    {
     "name": "stderr",
     "output_type": "stream",
     "text": [
      "/Users/frederikp/opt/anaconda3/lib/python3.8/site-packages/arch/univariate/base.py:753: ConvergenceWarning: The optimizer returned code 8. The message is:\n",
      "Positive directional derivative for linesearch\n",
      "See scipy.optimize.fmin_slsqp for code meaning.\n",
      "\n",
      "  warnings.warn(\n",
      "/Users/frederikp/opt/anaconda3/lib/python3.8/site-packages/arch/univariate/base.py:753: ConvergenceWarning: The optimizer returned code 8. The message is:\n",
      "Positive directional derivative for linesearch\n",
      "See scipy.optimize.fmin_slsqp for code meaning.\n",
      "\n",
      "  warnings.warn(\n"
     ]
    },
    {
     "name": "stdout",
     "output_type": "stream",
     "text": [
      "............."
     ]
    },
    {
     "name": "stderr",
     "output_type": "stream",
     "text": [
      "/Users/frederikp/opt/anaconda3/lib/python3.8/site-packages/arch/univariate/base.py:753: ConvergenceWarning: The optimizer returned code 8. The message is:\n",
      "Positive directional derivative for linesearch\n",
      "See scipy.optimize.fmin_slsqp for code meaning.\n",
      "\n",
      "  warnings.warn(\n",
      "/Users/frederikp/opt/anaconda3/lib/python3.8/site-packages/arch/univariate/base.py:753: ConvergenceWarning: The optimizer returned code 8. The message is:\n",
      "Positive directional derivative for linesearch\n",
      "See scipy.optimize.fmin_slsqp for code meaning.\n",
      "\n",
      "  warnings.warn(\n"
     ]
    },
    {
     "name": "stdout",
     "output_type": "stream",
     "text": [
      "....."
     ]
    },
    {
     "name": "stderr",
     "output_type": "stream",
     "text": [
      "/Users/frederikp/opt/anaconda3/lib/python3.8/site-packages/arch/univariate/base.py:753: ConvergenceWarning: The optimizer returned code 8. The message is:\n",
      "Positive directional derivative for linesearch\n",
      "See scipy.optimize.fmin_slsqp for code meaning.\n",
      "\n",
      "  warnings.warn(\n"
     ]
    },
    {
     "data": {
      "text/html": [
       "<div>\n",
       "<style scoped>\n",
       "    .dataframe tbody tr th:only-of-type {\n",
       "        vertical-align: middle;\n",
       "    }\n",
       "\n",
       "    .dataframe tbody tr th {\n",
       "        vertical-align: top;\n",
       "    }\n",
       "\n",
       "    .dataframe thead th {\n",
       "        text-align: right;\n",
       "    }\n",
       "</style>\n",
       "<table border=\"1\" class=\"dataframe\">\n",
       "  <thead>\n",
       "    <tr style=\"text-align: right;\">\n",
       "      <th></th>\n",
       "      <th>v1m</th>\n",
       "      <th>v3m</th>\n",
       "      <th>v1y</th>\n",
       "      <th>px_last</th>\n",
       "      <th>px_bid</th>\n",
       "      <th>px_ask</th>\n",
       "      <th>log_ret</th>\n",
       "      <th>rolling_21d_realized_stdev</th>\n",
       "      <th>cond_vol_forecast</th>\n",
       "      <th>cond_forecast_to_implied</th>\n",
       "    </tr>\n",
       "  </thead>\n",
       "  <tbody>\n",
       "    <tr>\n",
       "      <th>2021-01-01</th>\n",
       "      <td>16.3650</td>\n",
       "      <td>15.6350</td>\n",
       "      <td>14.565</td>\n",
       "      <td>74.4128</td>\n",
       "      <td>74.4000</td>\n",
       "      <td>74.4255</td>\n",
       "      <td>0.000000</td>\n",
       "      <td>0.000344</td>\n",
       "      <td>11.779561</td>\n",
       "      <td>0.719802</td>\n",
       "    </tr>\n",
       "    <tr>\n",
       "      <th>2021-01-04</th>\n",
       "      <td>16.3600</td>\n",
       "      <td>15.5050</td>\n",
       "      <td>14.400</td>\n",
       "      <td>74.3254</td>\n",
       "      <td>74.3127</td>\n",
       "      <td>74.3381</td>\n",
       "      <td>-0.001175</td>\n",
       "      <td>0.002751</td>\n",
       "      <td>10.957114</td>\n",
       "      <td>0.669750</td>\n",
       "    </tr>\n",
       "    <tr>\n",
       "      <th>2021-01-05</th>\n",
       "      <td>16.5800</td>\n",
       "      <td>15.5850</td>\n",
       "      <td>14.525</td>\n",
       "      <td>74.0237</td>\n",
       "      <td>74.0115</td>\n",
       "      <td>74.0359</td>\n",
       "      <td>-0.004067</td>\n",
       "      <td>0.003917</td>\n",
       "      <td>10.364928</td>\n",
       "      <td>0.625146</td>\n",
       "    </tr>\n",
       "    <tr>\n",
       "      <th>2021-01-06</th>\n",
       "      <td>16.0800</td>\n",
       "      <td>15.3950</td>\n",
       "      <td>14.435</td>\n",
       "      <td>73.9273</td>\n",
       "      <td>73.9202</td>\n",
       "      <td>73.9343</td>\n",
       "      <td>-0.001303</td>\n",
       "      <td>0.004170</td>\n",
       "      <td>9.644864</td>\n",
       "      <td>0.599805</td>\n",
       "    </tr>\n",
       "    <tr>\n",
       "      <th>2021-01-07</th>\n",
       "      <td>16.1150</td>\n",
       "      <td>15.4425</td>\n",
       "      <td>14.465</td>\n",
       "      <td>73.9273</td>\n",
       "      <td>73.9202</td>\n",
       "      <td>73.9343</td>\n",
       "      <td>0.000000</td>\n",
       "      <td>0.000522</td>\n",
       "      <td>8.959223</td>\n",
       "      <td>0.555956</td>\n",
       "    </tr>\n",
       "    <tr>\n",
       "      <th>...</th>\n",
       "      <td>...</td>\n",
       "      <td>...</td>\n",
       "      <td>...</td>\n",
       "      <td>...</td>\n",
       "      <td>...</td>\n",
       "      <td>...</td>\n",
       "      <td>...</td>\n",
       "      <td>...</td>\n",
       "      <td>...</td>\n",
       "      <td>...</td>\n",
       "    </tr>\n",
       "    <tr>\n",
       "      <th>2022-02-16</th>\n",
       "      <td>22.3250</td>\n",
       "      <td>20.4600</td>\n",
       "      <td>19.135</td>\n",
       "      <td>75.2695</td>\n",
       "      <td>75.2480</td>\n",
       "      <td>75.2910</td>\n",
       "      <td>-0.001288</td>\n",
       "      <td>0.016853</td>\n",
       "      <td>20.824827</td>\n",
       "      <td>0.932803</td>\n",
       "    </tr>\n",
       "    <tr>\n",
       "      <th>2022-02-17</th>\n",
       "      <td>25.6800</td>\n",
       "      <td>22.1175</td>\n",
       "      <td>19.895</td>\n",
       "      <td>76.3176</td>\n",
       "      <td>76.2880</td>\n",
       "      <td>76.3472</td>\n",
       "      <td>0.013829</td>\n",
       "      <td>0.001072</td>\n",
       "      <td>21.674371</td>\n",
       "      <td>0.844018</td>\n",
       "    </tr>\n",
       "    <tr>\n",
       "      <th>2022-02-18</th>\n",
       "      <td>26.5125</td>\n",
       "      <td>23.1300</td>\n",
       "      <td>20.575</td>\n",
       "      <td>77.3366</td>\n",
       "      <td>77.3102</td>\n",
       "      <td>77.3629</td>\n",
       "      <td>0.013264</td>\n",
       "      <td>0.006342</td>\n",
       "      <td>22.276862</td>\n",
       "      <td>0.840240</td>\n",
       "    </tr>\n",
       "    <tr>\n",
       "      <th>2022-02-21</th>\n",
       "      <td>34.2100</td>\n",
       "      <td>28.0900</td>\n",
       "      <td>22.885</td>\n",
       "      <td>79.7535</td>\n",
       "      <td>79.7120</td>\n",
       "      <td>79.7950</td>\n",
       "      <td>0.030773</td>\n",
       "      <td>0.021982</td>\n",
       "      <td>32.480373</td>\n",
       "      <td>0.949441</td>\n",
       "    </tr>\n",
       "    <tr>\n",
       "      <th>2022-02-22</th>\n",
       "      <td>36.1150</td>\n",
       "      <td>29.0200</td>\n",
       "      <td>23.310</td>\n",
       "      <td>80.5854</td>\n",
       "      <td>80.5718</td>\n",
       "      <td>80.5991</td>\n",
       "      <td>0.010377</td>\n",
       "      <td>0.017237</td>\n",
       "      <td>31.343853</td>\n",
       "      <td>0.867890</td>\n",
       "    </tr>\n",
       "  </tbody>\n",
       "</table>\n",
       "<p>298 rows × 10 columns</p>\n",
       "</div>"
      ],
      "text/plain": [
       "                v1m      v3m  ...  cond_vol_forecast  cond_forecast_to_implied\n",
       "2021-01-01  16.3650  15.6350  ...          11.779561                  0.719802\n",
       "2021-01-04  16.3600  15.5050  ...          10.957114                  0.669750\n",
       "2021-01-05  16.5800  15.5850  ...          10.364928                  0.625146\n",
       "2021-01-06  16.0800  15.3950  ...           9.644864                  0.599805\n",
       "2021-01-07  16.1150  15.4425  ...           8.959223                  0.555956\n",
       "...             ...      ...  ...                ...                       ...\n",
       "2022-02-16  22.3250  20.4600  ...          20.824827                  0.932803\n",
       "2022-02-17  25.6800  22.1175  ...          21.674371                  0.844018\n",
       "2022-02-18  26.5125  23.1300  ...          22.276862                  0.840240\n",
       "2022-02-21  34.2100  28.0900  ...          32.480373                  0.949441\n",
       "2022-02-22  36.1150  29.0200  ...          31.343853                  0.867890\n",
       "\n",
       "[298 rows x 10 columns]"
      ]
     },
     "execution_count": 6,
     "metadata": {},
     "output_type": "execute_result"
    }
   ],
   "source": [
    "# Conditional volatility forecasting\n",
    "vol_forecasts = get_rolling_vol_forecasts(return_series=returns, \n",
    "                                            model=model, \n",
    "                                            horizon=21,\n",
    "                                            fitting_end_date=\"2021-01-01\",\n",
    "                                            )\n",
    "vol_forecasts = vol_forecasts.multiply(np.sqrt(252))\n",
    "\n",
    "df = df.merge(vol_forecasts['h.21'], left_index=True, right_index=True)\n",
    "df.rename(columns={'h.21':'cond_vol_forecast'},inplace=True)\n",
    "df['cond_forecast_to_implied'] = df['cond_vol_forecast'] / df['v1m']\n",
    "df"
   ]
  },
  {
   "cell_type": "code",
   "execution_count": 4,
   "metadata": {},
   "outputs": [
    {
     "data": {
      "text/plain": [
       "<AxesSubplot:>"
      ]
     },
     "execution_count": 4,
     "metadata": {},
     "output_type": "execute_result"
    },
    {
     "data": {
      "image/png": "[encoded data removed]",
      "text/plain": [
       "<Figure size 432x288 with 1 Axes>"
      ]
     },
     "metadata": {
      "needs_background": "light"
     },
     "output_type": "display_data"
    }
   ],
   "source": [
    "df['cond_forecast_to_implied'].plot()"
   ]
  },
  {
   "cell_type": "code",
   "execution_count": 7,
   "metadata": {},
   "outputs": [],
   "source": [
    "threshold_up = 0.75\n",
    "threshold_down = 0.35\n",
    "\n",
    "df['direction'] = 0\n",
    "\n",
    "conditions = [ \n",
    "    (df['cond_forecast_to_implied'] > threshold_up) , \n",
    "    (df['cond_forecast_to_implied'] < threshold_down) , \n",
    "    #(threshold_down <= df['cond_forecast_to_implied']) & (df['cond_forecast_to_implied'] <= threshold_up) \n",
    "    ]\n",
    "directions = [1, -1]\n",
    "\n",
    "df['direction'] = np.select(conditions, directions)\n"
   ]
  },
  {
   "cell_type": "code",
   "execution_count": 9,
   "metadata": {},
   "outputs": [
    {
     "data": {
      "text/html": [
       "<div>\n",
       "<style scoped>\n",
       "    .dataframe tbody tr th:only-of-type {\n",
       "        vertical-align: middle;\n",
       "    }\n",
       "\n",
       "    .dataframe tbody tr th {\n",
       "        vertical-align: top;\n",
       "    }\n",
       "\n",
       "    .dataframe thead th {\n",
       "        text-align: right;\n",
       "    }\n",
       "</style>\n",
       "<table border=\"1\" class=\"dataframe\">\n",
       "  <thead>\n",
       "    <tr style=\"text-align: right;\">\n",
       "      <th></th>\n",
       "      <th>v1m</th>\n",
       "      <th>v3m</th>\n",
       "      <th>v1y</th>\n",
       "      <th>px_last</th>\n",
       "      <th>px_bid</th>\n",
       "      <th>px_ask</th>\n",
       "      <th>log_ret</th>\n",
       "      <th>rolling_21d_realized_stdev</th>\n",
       "      <th>cond_vol_forecast</th>\n",
       "      <th>cond_forecast_to_implied</th>\n",
       "      <th>direction</th>\n",
       "      <th>direction_new</th>\n",
       "    </tr>\n",
       "  </thead>\n",
       "  <tbody>\n",
       "    <tr>\n",
       "      <th>2022-01-12</th>\n",
       "      <td>15.2050</td>\n",
       "      <td>15.4650</td>\n",
       "      <td>15.5600</td>\n",
       "      <td>74.7175</td>\n",
       "      <td>74.7050</td>\n",
       "      <td>74.7300</td>\n",
       "      <td>0.003447</td>\n",
       "      <td>0.009421</td>\n",
       "      <td>9.674398</td>\n",
       "      <td>0.636264</td>\n",
       "      <td>0</td>\n",
       "      <td>0</td>\n",
       "    </tr>\n",
       "    <tr>\n",
       "      <th>2022-01-13</th>\n",
       "      <td>16.4900</td>\n",
       "      <td>16.3950</td>\n",
       "      <td>16.1775</td>\n",
       "      <td>76.3048</td>\n",
       "      <td>76.2700</td>\n",
       "      <td>76.3396</td>\n",
       "      <td>0.021022</td>\n",
       "      <td>0.026261</td>\n",
       "      <td>14.532004</td>\n",
       "      <td>0.881262</td>\n",
       "      <td>1</td>\n",
       "      <td>0</td>\n",
       "    </tr>\n",
       "    <tr>\n",
       "      <th>2022-01-14</th>\n",
       "      <td>16.8725</td>\n",
       "      <td>16.6900</td>\n",
       "      <td>16.3150</td>\n",
       "      <td>76.2402</td>\n",
       "      <td>76.2120</td>\n",
       "      <td>76.2684</td>\n",
       "      <td>-0.000847</td>\n",
       "      <td>0.024913</td>\n",
       "      <td>13.446806</td>\n",
       "      <td>0.796966</td>\n",
       "      <td>1</td>\n",
       "      <td>0</td>\n",
       "    </tr>\n",
       "    <tr>\n",
       "      <th>2022-01-17</th>\n",
       "      <td>17.7425</td>\n",
       "      <td>17.1550</td>\n",
       "      <td>16.6200</td>\n",
       "      <td>76.1035</td>\n",
       "      <td>76.0770</td>\n",
       "      <td>76.1300</td>\n",
       "      <td>-0.001795</td>\n",
       "      <td>0.019636</td>\n",
       "      <td>12.492817</td>\n",
       "      <td>0.704118</td>\n",
       "      <td>0</td>\n",
       "      <td>0</td>\n",
       "    </tr>\n",
       "    <tr>\n",
       "      <th>2022-01-18</th>\n",
       "      <td>18.0150</td>\n",
       "      <td>17.5500</td>\n",
       "      <td>17.1000</td>\n",
       "      <td>76.9664</td>\n",
       "      <td>76.9420</td>\n",
       "      <td>76.9909</td>\n",
       "      <td>0.011275</td>\n",
       "      <td>0.027891</td>\n",
       "      <td>13.185800</td>\n",
       "      <td>0.731935</td>\n",
       "      <td>0</td>\n",
       "      <td>0</td>\n",
       "    </tr>\n",
       "    <tr>\n",
       "      <th>2022-01-19</th>\n",
       "      <td>17.9125</td>\n",
       "      <td>17.5900</td>\n",
       "      <td>17.1500</td>\n",
       "      <td>76.2094</td>\n",
       "      <td>76.1947</td>\n",
       "      <td>76.2240</td>\n",
       "      <td>-0.009884</td>\n",
       "      <td>0.022141</td>\n",
       "      <td>13.379733</td>\n",
       "      <td>0.746950</td>\n",
       "      <td>0</td>\n",
       "      <td>0</td>\n",
       "    </tr>\n",
       "    <tr>\n",
       "      <th>2022-01-20</th>\n",
       "      <td>18.1275</td>\n",
       "      <td>17.5700</td>\n",
       "      <td>17.0850</td>\n",
       "      <td>76.6905</td>\n",
       "      <td>76.6810</td>\n",
       "      <td>76.7000</td>\n",
       "      <td>0.006293</td>\n",
       "      <td>0.029330</td>\n",
       "      <td>12.916805</td>\n",
       "      <td>0.712553</td>\n",
       "      <td>0</td>\n",
       "      <td>0</td>\n",
       "    </tr>\n",
       "    <tr>\n",
       "      <th>2022-01-21</th>\n",
       "      <td>18.7300</td>\n",
       "      <td>18.0550</td>\n",
       "      <td>17.3400</td>\n",
       "      <td>77.4677</td>\n",
       "      <td>77.4467</td>\n",
       "      <td>77.4886</td>\n",
       "      <td>0.010083</td>\n",
       "      <td>0.041654</td>\n",
       "      <td>13.255144</td>\n",
       "      <td>0.707696</td>\n",
       "      <td>0</td>\n",
       "      <td>0</td>\n",
       "    </tr>\n",
       "    <tr>\n",
       "      <th>2022-01-24</th>\n",
       "      <td>20.9650</td>\n",
       "      <td>19.7550</td>\n",
       "      <td>18.4000</td>\n",
       "      <td>78.7687</td>\n",
       "      <td>78.7404</td>\n",
       "      <td>78.7970</td>\n",
       "      <td>0.016655</td>\n",
       "      <td>0.050648</td>\n",
       "      <td>15.791922</td>\n",
       "      <td>0.753252</td>\n",
       "      <td>1</td>\n",
       "      <td>0</td>\n",
       "    </tr>\n",
       "    <tr>\n",
       "      <th>2022-01-25</th>\n",
       "      <td>20.9875</td>\n",
       "      <td>19.3950</td>\n",
       "      <td>18.1500</td>\n",
       "      <td>78.6506</td>\n",
       "      <td>78.6220</td>\n",
       "      <td>78.6792</td>\n",
       "      <td>-0.001500</td>\n",
       "      <td>0.051673</td>\n",
       "      <td>14.630590</td>\n",
       "      <td>0.697110</td>\n",
       "      <td>0</td>\n",
       "      <td>0</td>\n",
       "    </tr>\n",
       "    <tr>\n",
       "      <th>2022-01-26</th>\n",
       "      <td>23.1900</td>\n",
       "      <td>21.1450</td>\n",
       "      <td>18.9700</td>\n",
       "      <td>79.5112</td>\n",
       "      <td>79.4660</td>\n",
       "      <td>79.5563</td>\n",
       "      <td>0.010883</td>\n",
       "      <td>0.056889</td>\n",
       "      <td>15.048885</td>\n",
       "      <td>0.648939</td>\n",
       "      <td>0</td>\n",
       "      <td>0</td>\n",
       "    </tr>\n",
       "    <tr>\n",
       "      <th>2022-01-27</th>\n",
       "      <td>21.3950</td>\n",
       "      <td>20.1400</td>\n",
       "      <td>18.5800</td>\n",
       "      <td>78.0115</td>\n",
       "      <td>77.9729</td>\n",
       "      <td>78.0500</td>\n",
       "      <td>-0.019042</td>\n",
       "      <td>0.039735</td>\n",
       "      <td>18.353344</td>\n",
       "      <td>0.857833</td>\n",
       "      <td>1</td>\n",
       "      <td>0</td>\n",
       "    </tr>\n",
       "    <tr>\n",
       "      <th>2022-01-28</th>\n",
       "      <td>20.5175</td>\n",
       "      <td>19.5450</td>\n",
       "      <td>18.0800</td>\n",
       "      <td>77.8661</td>\n",
       "      <td>77.8345</td>\n",
       "      <td>77.8978</td>\n",
       "      <td>-0.001866</td>\n",
       "      <td>0.031594</td>\n",
       "      <td>17.001395</td>\n",
       "      <td>0.828629</td>\n",
       "      <td>1</td>\n",
       "      <td>0</td>\n",
       "    </tr>\n",
       "    <tr>\n",
       "      <th>2022-01-31</th>\n",
       "      <td>19.5225</td>\n",
       "      <td>19.0825</td>\n",
       "      <td>17.7900</td>\n",
       "      <td>77.3898</td>\n",
       "      <td>77.3599</td>\n",
       "      <td>77.4197</td>\n",
       "      <td>-0.006136</td>\n",
       "      <td>0.026955</td>\n",
       "      <td>16.174539</td>\n",
       "      <td>0.828508</td>\n",
       "      <td>1</td>\n",
       "      <td>0</td>\n",
       "    </tr>\n",
       "    <tr>\n",
       "      <th>2022-02-01</th>\n",
       "      <td>18.2925</td>\n",
       "      <td>18.0200</td>\n",
       "      <td>17.3100</td>\n",
       "      <td>76.8730</td>\n",
       "      <td>76.8430</td>\n",
       "      <td>76.9030</td>\n",
       "      <td>-0.006700</td>\n",
       "      <td>0.023216</td>\n",
       "      <td>15.492130</td>\n",
       "      <td>0.846912</td>\n",
       "      <td>1</td>\n",
       "      <td>0</td>\n",
       "    </tr>\n",
       "    <tr>\n",
       "      <th>2022-02-02</th>\n",
       "      <td>17.8975</td>\n",
       "      <td>17.7550</td>\n",
       "      <td>17.3800</td>\n",
       "      <td>76.0625</td>\n",
       "      <td>76.0391</td>\n",
       "      <td>76.0860</td>\n",
       "      <td>-0.010599</td>\n",
       "      <td>0.006888</td>\n",
       "      <td>15.685418</td>\n",
       "      <td>0.876403</td>\n",
       "      <td>1</td>\n",
       "      <td>0</td>\n",
       "    </tr>\n",
       "    <tr>\n",
       "      <th>2022-02-03</th>\n",
       "      <td>18.0200</td>\n",
       "      <td>17.7100</td>\n",
       "      <td>17.3500</td>\n",
       "      <td>76.5311</td>\n",
       "      <td>76.4939</td>\n",
       "      <td>76.5683</td>\n",
       "      <td>0.006142</td>\n",
       "      <td>0.002717</td>\n",
       "      <td>15.017151</td>\n",
       "      <td>0.833360</td>\n",
       "      <td>1</td>\n",
       "      <td>0</td>\n",
       "    </tr>\n",
       "    <tr>\n",
       "      <th>2022-02-04</th>\n",
       "      <td>17.4025</td>\n",
       "      <td>17.5025</td>\n",
       "      <td>17.3900</td>\n",
       "      <td>75.8398</td>\n",
       "      <td>75.8258</td>\n",
       "      <td>75.8539</td>\n",
       "      <td>-0.009074</td>\n",
       "      <td>0.004752</td>\n",
       "      <td>14.881665</td>\n",
       "      <td>0.855145</td>\n",
       "      <td>1</td>\n",
       "      <td>0</td>\n",
       "    </tr>\n",
       "    <tr>\n",
       "      <th>2022-02-07</th>\n",
       "      <td>17.1950</td>\n",
       "      <td>17.2850</td>\n",
       "      <td>17.2250</td>\n",
       "      <td>75.5062</td>\n",
       "      <td>75.4730</td>\n",
       "      <td>75.5395</td>\n",
       "      <td>-0.004408</td>\n",
       "      <td>0.002482</td>\n",
       "      <td>13.999605</td>\n",
       "      <td>0.814167</td>\n",
       "      <td>1</td>\n",
       "      <td>0</td>\n",
       "    </tr>\n",
       "    <tr>\n",
       "      <th>2022-02-08</th>\n",
       "      <td>16.7775</td>\n",
       "      <td>17.0625</td>\n",
       "      <td>17.1350</td>\n",
       "      <td>75.0133</td>\n",
       "      <td>74.9966</td>\n",
       "      <td>75.0300</td>\n",
       "      <td>-0.006549</td>\n",
       "      <td>0.000106</td>\n",
       "      <td>13.494169</td>\n",
       "      <td>0.804302</td>\n",
       "      <td>1</td>\n",
       "      <td>0</td>\n",
       "    </tr>\n",
       "    <tr>\n",
       "      <th>2022-02-09</th>\n",
       "      <td>16.8075</td>\n",
       "      <td>17.1800</td>\n",
       "      <td>17.2850</td>\n",
       "      <td>74.7125</td>\n",
       "      <td>74.6850</td>\n",
       "      <td>74.7400</td>\n",
       "      <td>-0.004018</td>\n",
       "      <td>0.002555</td>\n",
       "      <td>12.663916</td>\n",
       "      <td>0.753468</td>\n",
       "      <td>1</td>\n",
       "      <td>0</td>\n",
       "    </tr>\n",
       "    <tr>\n",
       "      <th>2022-02-10</th>\n",
       "      <td>17.6575</td>\n",
       "      <td>17.5200</td>\n",
       "      <td>17.3975</td>\n",
       "      <td>75.0180</td>\n",
       "      <td>74.9983</td>\n",
       "      <td>75.0377</td>\n",
       "      <td>0.004081</td>\n",
       "      <td>0.003034</td>\n",
       "      <td>11.949248</td>\n",
       "      <td>0.676724</td>\n",
       "      <td>0</td>\n",
       "      <td>0</td>\n",
       "    </tr>\n",
       "    <tr>\n",
       "      <th>2022-02-11</th>\n",
       "      <td>21.4275</td>\n",
       "      <td>20.4450</td>\n",
       "      <td>19.3450</td>\n",
       "      <td>77.1771</td>\n",
       "      <td>77.1437</td>\n",
       "      <td>77.2105</td>\n",
       "      <td>0.028375</td>\n",
       "      <td>0.008593</td>\n",
       "      <td>21.113301</td>\n",
       "      <td>0.985337</td>\n",
       "      <td>1</td>\n",
       "      <td>0</td>\n",
       "    </tr>\n",
       "    <tr>\n",
       "      <th>2022-02-14</th>\n",
       "      <td>23.9650</td>\n",
       "      <td>22.9350</td>\n",
       "      <td>21.3150</td>\n",
       "      <td>76.7663</td>\n",
       "      <td>76.7486</td>\n",
       "      <td>76.7840</td>\n",
       "      <td>-0.005337</td>\n",
       "      <td>0.005198</td>\n",
       "      <td>19.849486</td>\n",
       "      <td>0.828270</td>\n",
       "      <td>1</td>\n",
       "      <td>0</td>\n",
       "    </tr>\n",
       "    <tr>\n",
       "      <th>2022-02-15</th>\n",
       "      <td>21.9100</td>\n",
       "      <td>21.0350</td>\n",
       "      <td>20.4350</td>\n",
       "      <td>75.3665</td>\n",
       "      <td>75.3400</td>\n",
       "      <td>75.3930</td>\n",
       "      <td>-0.018403</td>\n",
       "      <td>0.007356</td>\n",
       "      <td>22.473615</td>\n",
       "      <td>1.025724</td>\n",
       "      <td>1</td>\n",
       "      <td>0</td>\n",
       "    </tr>\n",
       "    <tr>\n",
       "      <th>2022-02-16</th>\n",
       "      <td>22.3250</td>\n",
       "      <td>20.4600</td>\n",
       "      <td>19.1350</td>\n",
       "      <td>75.2695</td>\n",
       "      <td>75.2480</td>\n",
       "      <td>75.2910</td>\n",
       "      <td>-0.001288</td>\n",
       "      <td>0.016853</td>\n",
       "      <td>20.824827</td>\n",
       "      <td>0.932803</td>\n",
       "      <td>1</td>\n",
       "      <td>0</td>\n",
       "    </tr>\n",
       "    <tr>\n",
       "      <th>2022-02-17</th>\n",
       "      <td>25.6800</td>\n",
       "      <td>22.1175</td>\n",
       "      <td>19.8950</td>\n",
       "      <td>76.3176</td>\n",
       "      <td>76.2880</td>\n",
       "      <td>76.3472</td>\n",
       "      <td>0.013829</td>\n",
       "      <td>0.001072</td>\n",
       "      <td>21.674371</td>\n",
       "      <td>0.844018</td>\n",
       "      <td>1</td>\n",
       "      <td>0</td>\n",
       "    </tr>\n",
       "    <tr>\n",
       "      <th>2022-02-18</th>\n",
       "      <td>26.5125</td>\n",
       "      <td>23.1300</td>\n",
       "      <td>20.5750</td>\n",
       "      <td>77.3366</td>\n",
       "      <td>77.3102</td>\n",
       "      <td>77.3629</td>\n",
       "      <td>0.013264</td>\n",
       "      <td>0.006342</td>\n",
       "      <td>22.276862</td>\n",
       "      <td>0.840240</td>\n",
       "      <td>1</td>\n",
       "      <td>0</td>\n",
       "    </tr>\n",
       "    <tr>\n",
       "      <th>2022-02-21</th>\n",
       "      <td>34.2100</td>\n",
       "      <td>28.0900</td>\n",
       "      <td>22.8850</td>\n",
       "      <td>79.7535</td>\n",
       "      <td>79.7120</td>\n",
       "      <td>79.7950</td>\n",
       "      <td>0.030773</td>\n",
       "      <td>0.021982</td>\n",
       "      <td>32.480373</td>\n",
       "      <td>0.949441</td>\n",
       "      <td>1</td>\n",
       "      <td>0</td>\n",
       "    </tr>\n",
       "    <tr>\n",
       "      <th>2022-02-22</th>\n",
       "      <td>36.1150</td>\n",
       "      <td>29.0200</td>\n",
       "      <td>23.3100</td>\n",
       "      <td>80.5854</td>\n",
       "      <td>80.5718</td>\n",
       "      <td>80.5991</td>\n",
       "      <td>0.010377</td>\n",
       "      <td>0.017237</td>\n",
       "      <td>31.343853</td>\n",
       "      <td>0.867890</td>\n",
       "      <td>1</td>\n",
       "      <td>0</td>\n",
       "    </tr>\n",
       "  </tbody>\n",
       "</table>\n",
       "</div>"
      ],
      "text/plain": [
       "                v1m      v3m  ...  direction  direction_new\n",
       "2022-01-12  15.2050  15.4650  ...          0              0\n",
       "2022-01-13  16.4900  16.3950  ...          1              0\n",
       "2022-01-14  16.8725  16.6900  ...          1              0\n",
       "2022-01-17  17.7425  17.1550  ...          0              0\n",
       "2022-01-18  18.0150  17.5500  ...          0              0\n",
       "2022-01-19  17.9125  17.5900  ...          0              0\n",
       "2022-01-20  18.1275  17.5700  ...          0              0\n",
       "2022-01-21  18.7300  18.0550  ...          0              0\n",
       "2022-01-24  20.9650  19.7550  ...          1              0\n",
       "2022-01-25  20.9875  19.3950  ...          0              0\n",
       "2022-01-26  23.1900  21.1450  ...          0              0\n",
       "2022-01-27  21.3950  20.1400  ...          1              0\n",
       "2022-01-28  20.5175  19.5450  ...          1              0\n",
       "2022-01-31  19.5225  19.0825  ...          1              0\n",
       "2022-02-01  18.2925  18.0200  ...          1              0\n",
       "2022-02-02  17.8975  17.7550  ...          1              0\n",
       "2022-02-03  18.0200  17.7100  ...          1              0\n",
       "2022-02-04  17.4025  17.5025  ...          1              0\n",
       "2022-02-07  17.1950  17.2850  ...          1              0\n",
       "2022-02-08  16.7775  17.0625  ...          1              0\n",
       "2022-02-09  16.8075  17.1800  ...          1              0\n",
       "2022-02-10  17.6575  17.5200  ...          0              0\n",
       "2022-02-11  21.4275  20.4450  ...          1              0\n",
       "2022-02-14  23.9650  22.9350  ...          1              0\n",
       "2022-02-15  21.9100  21.0350  ...          1              0\n",
       "2022-02-16  22.3250  20.4600  ...          1              0\n",
       "2022-02-17  25.6800  22.1175  ...          1              0\n",
       "2022-02-18  26.5125  23.1300  ...          1              0\n",
       "2022-02-21  34.2100  28.0900  ...          1              0\n",
       "2022-02-22  36.1150  29.0200  ...          1              0\n",
       "\n",
       "[30 rows x 12 columns]"
      ]
     },
     "execution_count": 9,
     "metadata": {},
     "output_type": "execute_result"
    }
   ],
   "source": [
    "counter = 0 \n",
    "df['direction_new'] = 0\n",
    "\n",
    "for index, row in df.iterrows():\n",
    "    \n",
    "    if counter > 0 : \n",
    "        counter -= counter\n",
    "        continue\n",
    "\n",
    "    if row['cond_forecast_to_implied'] > threshold_up:\n",
    "        row['direction_new'] = 1\n",
    "        counter = 21\n",
    "\n",
    "    if row['cond_forecast_to_implied'] < threshold_down:\n",
    "        row['direction_new'] = -1\n",
    "        counter = 21\n",
    "\n",
    "df.tail(30)"
   ]
  },
  {
   "cell_type": "code",
   "execution_count": null,
   "metadata": {},
   "outputs": [],
   "source": []
  }
 ],
 "metadata": {
  "interpreter": {
   "hash": "336d0a3d066a3f2f4e39adf7ee7328ec3323860f0c2dfb701fa93aad536f26f8"
  },
  "kernelspec": {
   "display_name": "Python 3.8.12 ('base')",
   "language": "python",
   "name": "python3"
  },
  "language_info": {
   "codemirror_mode": {
    "name": "ipython",
    "version": 3
   },
   "file_extension": ".py",
   "mimetype": "text/x-python",
   "name": "python",
   "nbconvert_exporter": "python",
   "pygments_lexer": "ipython3",
   "version": "3.8.12"
  },
  "orig_nbformat": 4
 },
 "nbformat": 4,
 "nbformat_minor": 2
}
