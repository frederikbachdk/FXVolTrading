{
 "cells": [
  {
   "cell_type": "markdown",
   "metadata": {},
   "source": [
    "# GARCH"
   ]
  },
  {
   "cell_type": "markdown",
   "metadata": {},
   "source": [
    "Let's just play around a little bit"
   ]
  },
  {
   "cell_type": "code",
   "execution_count": 43,
   "metadata": {},
   "outputs": [
    {
     "name": "stdout",
     "output_type": "stream",
     "text": [
      "The autoreload extension is already loaded. To reload it, use:\n",
      "  %reload_ext autoreload\n"
     ]
    }
   ],
   "source": [
    "import numpy as np\n",
    "import pandas as pd\n",
    "import arch\n",
    "\n",
    "# local modules\n",
    "from data_cleaning.import_data import import_data\n",
    "from utils.plots import *\n",
    "from utils.statistics import *\n",
    "\n",
    "# autoreload modules when code is run\n",
    "%load_ext autoreload\n",
    "%autoreload 2"
   ]
  },
  {
   "cell_type": "code",
   "execution_count": 44,
   "metadata": {},
   "outputs": [
    {
     "data": {
      "text/html": [
       "<div>\n",
       "<style scoped>\n",
       "    .dataframe tbody tr th:only-of-type {\n",
       "        vertical-align: middle;\n",
       "    }\n",
       "\n",
       "    .dataframe tbody tr th {\n",
       "        vertical-align: top;\n",
       "    }\n",
       "\n",
       "    .dataframe thead th {\n",
       "        text-align: right;\n",
       "    }\n",
       "</style>\n",
       "<table border=\"1\" class=\"dataframe\">\n",
       "  <thead>\n",
       "    <tr style=\"text-align: right;\">\n",
       "      <th></th>\n",
       "      <th>v1m</th>\n",
       "      <th>v3m</th>\n",
       "      <th>v1y</th>\n",
       "      <th>px_last</th>\n",
       "      <th>px_bid</th>\n",
       "      <th>px_ask</th>\n",
       "      <th>log_ret</th>\n",
       "      <th>rolling_21d_realized_stdev</th>\n",
       "    </tr>\n",
       "    <tr>\n",
       "      <th>Dates</th>\n",
       "      <th></th>\n",
       "      <th></th>\n",
       "      <th></th>\n",
       "      <th></th>\n",
       "      <th></th>\n",
       "      <th></th>\n",
       "      <th></th>\n",
       "      <th></th>\n",
       "    </tr>\n",
       "  </thead>\n",
       "  <tbody>\n",
       "    <tr>\n",
       "      <th>2000-01-03</th>\n",
       "      <td>NaN</td>\n",
       "      <td>NaN</td>\n",
       "      <td>NaN</td>\n",
       "      <td>NaN</td>\n",
       "      <td>NaN</td>\n",
       "      <td>NaN</td>\n",
       "      <td>NaN</td>\n",
       "      <td>NaN</td>\n",
       "    </tr>\n",
       "    <tr>\n",
       "      <th>2000-01-04</th>\n",
       "      <td>NaN</td>\n",
       "      <td>NaN</td>\n",
       "      <td>NaN</td>\n",
       "      <td>NaN</td>\n",
       "      <td>NaN</td>\n",
       "      <td>NaN</td>\n",
       "      <td>NaN</td>\n",
       "      <td>NaN</td>\n",
       "    </tr>\n",
       "    <tr>\n",
       "      <th>2000-01-05</th>\n",
       "      <td>NaN</td>\n",
       "      <td>NaN</td>\n",
       "      <td>NaN</td>\n",
       "      <td>NaN</td>\n",
       "      <td>NaN</td>\n",
       "      <td>NaN</td>\n",
       "      <td>NaN</td>\n",
       "      <td>NaN</td>\n",
       "    </tr>\n",
       "    <tr>\n",
       "      <th>2000-01-06</th>\n",
       "      <td>NaN</td>\n",
       "      <td>NaN</td>\n",
       "      <td>NaN</td>\n",
       "      <td>NaN</td>\n",
       "      <td>NaN</td>\n",
       "      <td>NaN</td>\n",
       "      <td>NaN</td>\n",
       "      <td>NaN</td>\n",
       "    </tr>\n",
       "    <tr>\n",
       "      <th>2000-01-07</th>\n",
       "      <td>NaN</td>\n",
       "      <td>NaN</td>\n",
       "      <td>NaN</td>\n",
       "      <td>NaN</td>\n",
       "      <td>NaN</td>\n",
       "      <td>NaN</td>\n",
       "      <td>NaN</td>\n",
       "      <td>NaN</td>\n",
       "    </tr>\n",
       "    <tr>\n",
       "      <th>...</th>\n",
       "      <td>...</td>\n",
       "      <td>...</td>\n",
       "      <td>...</td>\n",
       "      <td>...</td>\n",
       "      <td>...</td>\n",
       "      <td>...</td>\n",
       "      <td>...</td>\n",
       "      <td>...</td>\n",
       "    </tr>\n",
       "    <tr>\n",
       "      <th>2022-02-16</th>\n",
       "      <td>22.3250</td>\n",
       "      <td>20.4600</td>\n",
       "      <td>19.135</td>\n",
       "      <td>75.2695</td>\n",
       "      <td>75.2480</td>\n",
       "      <td>75.2910</td>\n",
       "      <td>-0.001288</td>\n",
       "      <td>0.016853</td>\n",
       "    </tr>\n",
       "    <tr>\n",
       "      <th>2022-02-17</th>\n",
       "      <td>25.6800</td>\n",
       "      <td>22.1175</td>\n",
       "      <td>19.895</td>\n",
       "      <td>76.3176</td>\n",
       "      <td>76.2880</td>\n",
       "      <td>76.3472</td>\n",
       "      <td>0.013829</td>\n",
       "      <td>0.001072</td>\n",
       "    </tr>\n",
       "    <tr>\n",
       "      <th>2022-02-18</th>\n",
       "      <td>26.5125</td>\n",
       "      <td>23.1300</td>\n",
       "      <td>20.575</td>\n",
       "      <td>77.3366</td>\n",
       "      <td>77.3102</td>\n",
       "      <td>77.3629</td>\n",
       "      <td>0.013264</td>\n",
       "      <td>0.006342</td>\n",
       "    </tr>\n",
       "    <tr>\n",
       "      <th>2022-02-21</th>\n",
       "      <td>34.2100</td>\n",
       "      <td>28.0900</td>\n",
       "      <td>22.885</td>\n",
       "      <td>79.7535</td>\n",
       "      <td>79.7120</td>\n",
       "      <td>79.7950</td>\n",
       "      <td>0.030773</td>\n",
       "      <td>0.021982</td>\n",
       "    </tr>\n",
       "    <tr>\n",
       "      <th>2022-02-22</th>\n",
       "      <td>36.1150</td>\n",
       "      <td>29.0200</td>\n",
       "      <td>23.310</td>\n",
       "      <td>80.5854</td>\n",
       "      <td>80.5718</td>\n",
       "      <td>80.5991</td>\n",
       "      <td>0.010377</td>\n",
       "      <td>0.017237</td>\n",
       "    </tr>\n",
       "  </tbody>\n",
       "</table>\n",
       "<p>5777 rows × 8 columns</p>\n",
       "</div>"
      ],
      "text/plain": [
       "                v1m      v3m     v1y  px_last   px_bid   px_ask   log_ret  \\\n",
       "Dates                                                                       \n",
       "2000-01-03      NaN      NaN     NaN      NaN      NaN      NaN       NaN   \n",
       "2000-01-04      NaN      NaN     NaN      NaN      NaN      NaN       NaN   \n",
       "2000-01-05      NaN      NaN     NaN      NaN      NaN      NaN       NaN   \n",
       "2000-01-06      NaN      NaN     NaN      NaN      NaN      NaN       NaN   \n",
       "2000-01-07      NaN      NaN     NaN      NaN      NaN      NaN       NaN   \n",
       "...             ...      ...     ...      ...      ...      ...       ...   \n",
       "2022-02-16  22.3250  20.4600  19.135  75.2695  75.2480  75.2910 -0.001288   \n",
       "2022-02-17  25.6800  22.1175  19.895  76.3176  76.2880  76.3472  0.013829   \n",
       "2022-02-18  26.5125  23.1300  20.575  77.3366  77.3102  77.3629  0.013264   \n",
       "2022-02-21  34.2100  28.0900  22.885  79.7535  79.7120  79.7950  0.030773   \n",
       "2022-02-22  36.1150  29.0200  23.310  80.5854  80.5718  80.5991  0.010377   \n",
       "\n",
       "            rolling_21d_realized_stdev  \n",
       "Dates                                   \n",
       "2000-01-03                         NaN  \n",
       "2000-01-04                         NaN  \n",
       "2000-01-05                         NaN  \n",
       "2000-01-06                         NaN  \n",
       "2000-01-07                         NaN  \n",
       "...                                ...  \n",
       "2022-02-16                    0.016853  \n",
       "2022-02-17                    0.001072  \n",
       "2022-02-18                    0.006342  \n",
       "2022-02-21                    0.021982  \n",
       "2022-02-22                    0.017237  \n",
       "\n",
       "[5777 rows x 8 columns]"
      ]
     },
     "execution_count": 44,
     "metadata": {},
     "output_type": "execute_result"
    }
   ],
   "source": [
    "df = import_data(fx_pair='USDRUB')\n",
    "df"
   ]
  },
  {
   "cell_type": "markdown",
   "metadata": {},
   "source": [
    "## Descriptive Statistics"
   ]
  },
  {
   "cell_type": "code",
   "execution_count": 71,
   "metadata": {},
   "outputs": [
    {
     "data": {
      "text/plain": [
       "count    5760.000000\n",
       "mean        0.000180\n",
       "std         0.007844\n",
       "min        -0.173462\n",
       "25%        -0.002269\n",
       "50%         0.000000\n",
       "75%         0.002220\n",
       "max         0.170009\n",
       "Name: log_ret, dtype: float64"
      ]
     },
     "execution_count": 71,
     "metadata": {},
     "output_type": "execute_result"
    }
   ],
   "source": [
    "df['log_ret'].describe()"
   ]
  },
  {
   "cell_type": "code",
   "execution_count": 50,
   "metadata": {},
   "outputs": [
    {
     "data": {
      "image/png": "[encoded data removed]",
      "text/plain": [
       "<Figure size 864x648 with 1 Axes>"
      ]
     },
     "metadata": {
      "needs_background": "light"
     },
     "output_type": "display_data"
    }
   ],
   "source": [
    "plot_returns(df.dropna())"
   ]
  },
  {
   "cell_type": "code",
   "execution_count": 64,
   "metadata": {},
   "outputs": [
    {
     "name": "stdout",
     "output_type": "stream",
     "text": [
      "########################\n",
      "     Normality test     \n",
      "########################\n",
      "p = 0.00000\n",
      "The null of normality can be rejected\n",
      "#########################################################\n",
      "     Are returns statistically signifcant from zero?     \n",
      "#########################################################\n",
      "Returns \n",
      "t=1.744, p=0.081\n",
      "The null of zero-returns cannot be rejected\n",
      "#########################\n",
      "     Autocorrelation     \n",
      "#########################\n"
     ]
    },
    {
     "data": {
      "image/png": "[encoded data removed]",
      "text/plain": [
       "<Figure size 432x288 with 1 Axes>"
      ]
     },
     "metadata": {
      "needs_background": "light"
     },
     "output_type": "display_data"
    }
   ],
   "source": [
    "get_desctiptive_stats(df,plots=True)"
   ]
  },
  {
   "cell_type": "markdown",
   "metadata": {},
   "source": [
    "fix below and put inside statistics.py"
   ]
  },
  {
   "cell_type": "code",
   "execution_count": 72,
   "metadata": {},
   "outputs": [
    {
     "name": "stderr",
     "output_type": "stream",
     "text": [
      "/Users/frederikp/opt/anaconda3/lib/python3.8/site-packages/seaborn/distributions.py:2619: FutureWarning: `distplot` is a deprecated function and will be removed in a future version. Please adapt your code to use either `displot` (a figure-level function with similar flexibility) or `histplot` (an axes-level function for histograms).\n",
      "  warnings.warn(msg, FutureWarning)\n"
     ]
    },
    {
     "data": {
      "image/png": "[encoded data removed]",
      "text/plain": [
       "<Figure size 432x288 with 1 Axes>"
      ]
     },
     "metadata": {
      "needs_background": "light"
     },
     "output_type": "display_data"
    }
   ],
   "source": [
    "sns.distplot(df['log_ret'].dropna(), hist=True, kde=True, \n",
    "             bins=int(len(df.dropna().index)/10), color = 'darkblue', \n",
    "             hist_kws={'edgecolor':'black'},\n",
    "             kde_kws={'linewidth': 4})\n",
    "plt.title('Return distribution')\n",
    "plt.show()"
   ]
  },
  {
   "cell_type": "code",
   "execution_count": null,
   "metadata": {},
   "outputs": [],
   "source": []
  }
 ],
 "metadata": {
  "kernelspec": {
   "display_name": "Python 3",
   "language": "python",
   "name": "python3"
  },
  "language_info": {
   "codemirror_mode": {
    "name": "ipython",
    "version": 3
   },
   "file_extension": ".py",
   "mimetype": "text/x-python",
   "name": "python",
   "nbconvert_exporter": "python",
   "pygments_lexer": "ipython3",
   "version": "3.8.5"
  },
  "toc-autonumbering": true
 },
 "nbformat": 4,
 "nbformat_minor": 4
}
