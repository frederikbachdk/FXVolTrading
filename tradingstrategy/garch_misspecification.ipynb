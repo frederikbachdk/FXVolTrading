{
 "cells": [
  {
   "cell_type": "code",
   "execution_count": 2,
   "metadata": {},
   "outputs": [],
   "source": [
    "import numpy as np\n",
    "import pandas as pd\n",
    "\n",
    "from arch import arch_model\n",
    "from arch.univariate import EGARCH\n",
    "import matplotlib.pyplot as plt\n",
    "import statsmodels.api as sm\n",
    "\n",
    "# local module\n",
    "from data_cleaning.import_data import import_data\n",
    "# autoreload modules when code is run\n",
    "%load_ext autoreload\n",
    "%autoreload 2"
   ]
  },
  {
   "cell_type": "code",
   "execution_count": 29,
   "metadata": {},
   "outputs": [],
   "source": [
    "# estimate and report parameter estimates for all pairs\n",
    "pairs = {'USDRUB':'2005-03-03', 'USDZAR':'2003-02-23', 'USDBRL':'2003-10-01', 'EURUSD':'2000-03-15', 'USDJPY':'2000-02-23', 'GBPUSD':'2000-02-23'}\n",
    "params = pd.DataFrame(index=['omega', 'alpha', 'beta', 'nu'])\n",
    "\n",
    "for pair in pairs:\n",
    "    df = import_data(fx_pair=pair)\n",
    "    ret = df['log_ret']\n",
    "    ret = ret.loc[pairs[pair]:'2020-12-31'] * 100\n",
    "    #ret[0] = 0\n",
    "\n",
    "    # fit model\n",
    "    garch = arch_model(ret, mean='Zero', vol='GARCH', p=1,q=1, dist = 'Studentst')\n",
    "    garch_fit = garch.fit(update_freq = 0, disp = 'off')\n",
    "\n",
    "    # fetch params\n",
    "    params_it = []\n",
    "    params_it.append(garch_fit.params['omega'])\n",
    "    params_it.append(garch_fit.params['alpha[1]'])\n",
    "    params_it.append(garch_fit.params['beta[1]'])\n",
    "    params_it.append(garch_fit.params['nu'])\n",
    "\n",
    "    params[pair] = params_it\n",
    "\n",
    "params"
   ]
  },
  {
   "cell_type": "code",
   "execution_count": 30,
   "metadata": {},
   "outputs": [
    {
     "data": {
      "text/html": [
       "<div>\n",
       "<style scoped>\n",
       "    .dataframe tbody tr th:only-of-type {\n",
       "        vertical-align: middle;\n",
       "    }\n",
       "\n",
       "    .dataframe tbody tr th {\n",
       "        vertical-align: top;\n",
       "    }\n",
       "\n",
       "    .dataframe thead th {\n",
       "        text-align: right;\n",
       "    }\n",
       "</style>\n",
       "<table border=\"1\" class=\"dataframe\">\n",
       "  <thead>\n",
       "    <tr style=\"text-align: right;\">\n",
       "      <th></th>\n",
       "      <th>USDRUB</th>\n",
       "      <th>USDZAR</th>\n",
       "      <th>USDBRL</th>\n",
       "      <th>EURUSD</th>\n",
       "      <th>USDJPY</th>\n",
       "      <th>GBPUSD</th>\n",
       "    </tr>\n",
       "  </thead>\n",
       "  <tbody>\n",
       "    <tr>\n",
       "      <th>omega</th>\n",
       "      <td>0.000894</td>\n",
       "      <td>0.019531</td>\n",
       "      <td>0.009948</td>\n",
       "      <td>0.000738</td>\n",
       "      <td>0.003344</td>\n",
       "      <td>0.002617</td>\n",
       "    </tr>\n",
       "    <tr>\n",
       "      <th>alpha</th>\n",
       "      <td>0.069400</td>\n",
       "      <td>0.059770</td>\n",
       "      <td>0.103900</td>\n",
       "      <td>0.035926</td>\n",
       "      <td>0.057460</td>\n",
       "      <td>0.041727</td>\n",
       "    </tr>\n",
       "    <tr>\n",
       "      <th>beta</th>\n",
       "      <td>0.930601</td>\n",
       "      <td>0.923261</td>\n",
       "      <td>0.892023</td>\n",
       "      <td>0.962593</td>\n",
       "      <td>0.935844</td>\n",
       "      <td>0.950618</td>\n",
       "    </tr>\n",
       "    <tr>\n",
       "      <th>nu</th>\n",
       "      <td>5.731351</td>\n",
       "      <td>10.306982</td>\n",
       "      <td>7.680272</td>\n",
       "      <td>10.001919</td>\n",
       "      <td>5.444492</td>\n",
       "      <td>8.650045</td>\n",
       "    </tr>\n",
       "  </tbody>\n",
       "</table>\n",
       "</div>"
      ],
      "text/plain": [
       "         USDRUB     USDZAR    USDBRL     EURUSD    USDJPY    GBPUSD\n",
       "omega  0.000894   0.019531  0.009948   0.000738  0.003344  0.002617\n",
       "alpha  0.069400   0.059770  0.103900   0.035926  0.057460  0.041727\n",
       "beta   0.930601   0.923261  0.892023   0.962593  0.935844  0.950618\n",
       "nu     5.731351  10.306982  7.680272  10.001919  5.444492  8.650045"
      ]
     },
     "execution_count": 30,
     "metadata": {},
     "output_type": "execute_result"
    }
   ],
   "source": []
  },
  {
   "cell_type": "code",
   "execution_count": null,
   "metadata": {},
   "outputs": [],
   "source": []
  }
 ],
 "metadata": {
  "interpreter": {
   "hash": "4f1fbba2f632f7245b98016db17340add9a90b359912856f9dd7aa09d13b32b3"
  },
  "kernelspec": {
   "display_name": "Python 3.8.5 ('base')",
   "language": "python",
   "name": "python3"
  },
  "language_info": {
   "codemirror_mode": {
    "name": "ipython",
    "version": 3
   },
   "file_extension": ".py",
   "mimetype": "text/x-python",
   "name": "python",
   "nbconvert_exporter": "python",
   "pygments_lexer": "ipython3",
   "version": "3.8.5"
  },
  "orig_nbformat": 4
 },
 "nbformat": 4,
 "nbformat_minor": 2
}
