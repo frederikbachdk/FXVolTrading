{
 "cells": [
  {
   "cell_type": "markdown",
   "metadata": {},
   "source": [
    "# YOUR PROJECT TITLE"
   ]
  },
  {
   "cell_type": "markdown",
   "metadata": {},
   "source": [
    "> **Note the following:** \n",
    "> 1. This is *not* meant to be an example of an actual **data analysis project**, just an example of how to structure such a project.\n",
    "> 1. Remember the general advice on structuring and commenting your code from [lecture 5](https://numeconcopenhagen.netlify.com/lectures/Workflow_and_debugging).\n",
    "> 1. Remember this [guide](https://www.markdownguide.org/basic-syntax/) on markdown and (a bit of) latex.\n",
    "> 1. Turn on automatic numbering by clicking on the small icon on top of the table of contents in the left sidebar.\n",
    "> 1. The `dataproject.py` file includes a function which will be used multiple times in this notebook."
   ]
  },
  {
   "cell_type": "markdown",
   "metadata": {},
   "source": [
    "Imports and set magics:"
   ]
  },
  {
   "cell_type": "code",
   "execution_count": 1,
   "metadata": {},
   "outputs": [],
   "source": [
    "import pandas as pd\n",
    "import matplotlib.pyplot as plt\n",
    "import ipywidgets as widgets\n",
    "from matplotlib_venn import venn2 # install with pip install matplotlib-venn\n",
    "\n",
    "# autoreload modules when code is run\n",
    "%load_ext autoreload\n",
    "%autoreload 2\n",
    "\n",
    "# local modules\n",
    "import dataproject"
   ]
  },
  {
   "cell_type": "markdown",
   "metadata": {},
   "source": [
    "# Read and clean data"
   ]
  },
  {
   "cell_type": "markdown",
   "metadata": {},
   "source": [
    "## Employment data"
   ]
  },
  {
   "cell_type": "markdown",
   "metadata": {},
   "source": [
    "**Read the employment data** in ``RAS200.xlsx`` and **clean it** removing and renaming columns:"
   ]
  },
  {
   "cell_type": "code",
   "execution_count": 2,
   "metadata": {},
   "outputs": [],
   "source": [
    "# a. load\n",
    "empl = pd.read_excel('RAS200.xlsx', skiprows=2)\n",
    "\n",
    "# b. drop columns\n",
    "drop_these = ['Unnamed: 0', 'Unnamed: 1', 'Unnamed: 2', 'Unnamed: 3']\n",
    "empl.drop(drop_these, axis=1, inplace=True)\n",
    "\n",
    "# c. rename columns\n",
    "empl.rename(columns = {'Unnamed: 4':'municipality'}, inplace=True)"
   ]
  },
  {
   "cell_type": "markdown",
   "metadata": {},
   "source": [
    "The dataset now looks like this:"
   ]
  },
  {
   "cell_type": "code",
   "execution_count": 3,
   "metadata": {},
   "outputs": [
    {
     "data": {
      "text/html": [
       "<div>\n",
       "<style scoped>\n",
       "    .dataframe tbody tr th:only-of-type {\n",
       "        vertical-align: middle;\n",
       "    }\n",
       "\n",
       "    .dataframe tbody tr th {\n",
       "        vertical-align: top;\n",
       "    }\n",
       "\n",
       "    .dataframe thead th {\n",
       "        text-align: right;\n",
       "    }\n",
       "</style>\n",
       "<table border=\"1\" class=\"dataframe\">\n",
       "  <thead>\n",
       "    <tr style=\"text-align: right;\">\n",
       "      <th></th>\n",
       "      <th>municipality</th>\n",
       "      <th>2008</th>\n",
       "      <th>2009</th>\n",
       "      <th>2010</th>\n",
       "      <th>2011</th>\n",
       "      <th>2012</th>\n",
       "      <th>2013</th>\n",
       "      <th>2014</th>\n",
       "      <th>2015</th>\n",
       "      <th>2016</th>\n",
       "      <th>2017</th>\n",
       "    </tr>\n",
       "  </thead>\n",
       "  <tbody>\n",
       "    <tr>\n",
       "      <th>0</th>\n",
       "      <td>All Denmark</td>\n",
       "      <td>76.0</td>\n",
       "      <td>72.8</td>\n",
       "      <td>72.1</td>\n",
       "      <td>71.8</td>\n",
       "      <td>71.3</td>\n",
       "      <td>71.3</td>\n",
       "      <td>71.6</td>\n",
       "      <td>72.1</td>\n",
       "      <td>72.8</td>\n",
       "      <td>73.6</td>\n",
       "    </tr>\n",
       "    <tr>\n",
       "      <th>1</th>\n",
       "      <td>Region Hovedstaden</td>\n",
       "      <td>75.8</td>\n",
       "      <td>73.3</td>\n",
       "      <td>72.6</td>\n",
       "      <td>72.5</td>\n",
       "      <td>72.2</td>\n",
       "      <td>72.3</td>\n",
       "      <td>72.5</td>\n",
       "      <td>73.2</td>\n",
       "      <td>73.8</td>\n",
       "      <td>74.4</td>\n",
       "    </tr>\n",
       "    <tr>\n",
       "      <th>2</th>\n",
       "      <td>Province Byen København</td>\n",
       "      <td>73.4</td>\n",
       "      <td>71.0</td>\n",
       "      <td>70.5</td>\n",
       "      <td>70.5</td>\n",
       "      <td>70.4</td>\n",
       "      <td>70.6</td>\n",
       "      <td>70.9</td>\n",
       "      <td>71.6</td>\n",
       "      <td>72.3</td>\n",
       "      <td>73.0</td>\n",
       "    </tr>\n",
       "    <tr>\n",
       "      <th>3</th>\n",
       "      <td>Copenhagen</td>\n",
       "      <td>72.5</td>\n",
       "      <td>70.0</td>\n",
       "      <td>69.7</td>\n",
       "      <td>69.6</td>\n",
       "      <td>69.4</td>\n",
       "      <td>69.7</td>\n",
       "      <td>70.0</td>\n",
       "      <td>70.8</td>\n",
       "      <td>71.5</td>\n",
       "      <td>72.2</td>\n",
       "    </tr>\n",
       "    <tr>\n",
       "      <th>4</th>\n",
       "      <td>Frederiksberg</td>\n",
       "      <td>75.6</td>\n",
       "      <td>73.7</td>\n",
       "      <td>72.7</td>\n",
       "      <td>72.8</td>\n",
       "      <td>73.0</td>\n",
       "      <td>73.3</td>\n",
       "      <td>73.5</td>\n",
       "      <td>74.0</td>\n",
       "      <td>74.7</td>\n",
       "      <td>75.6</td>\n",
       "    </tr>\n",
       "  </tbody>\n",
       "</table>\n",
       "</div>"
      ],
      "text/plain": [
       "              municipality  2008  2009  2010  2011  2012  2013  2014  2015  \\\n",
       "0              All Denmark  76.0  72.8  72.1  71.8  71.3  71.3  71.6  72.1   \n",
       "1       Region Hovedstaden  75.8  73.3  72.6  72.5  72.2  72.3  72.5  73.2   \n",
       "2  Province Byen København  73.4  71.0  70.5  70.5  70.4  70.6  70.9  71.6   \n",
       "3               Copenhagen  72.5  70.0  69.7  69.6  69.4  69.7  70.0  70.8   \n",
       "4            Frederiksberg  75.6  73.7  72.7  72.8  73.0  73.3  73.5  74.0   \n",
       "\n",
       "   2016  2017  \n",
       "0  72.8  73.6  \n",
       "1  73.8  74.4  \n",
       "2  72.3  73.0  \n",
       "3  71.5  72.2  \n",
       "4  74.7  75.6  "
      ]
     },
     "execution_count": 3,
     "metadata": {},
     "output_type": "execute_result"
    }
   ],
   "source": [
    "empl.head()"
   ]
  },
  {
   "cell_type": "markdown",
   "metadata": {},
   "source": [
    "**Remove all rows which are not municipalities**:"
   ]
  },
  {
   "cell_type": "code",
   "execution_count": 4,
   "metadata": {},
   "outputs": [
    {
     "data": {
      "text/html": [
       "<div>\n",
       "<style scoped>\n",
       "    .dataframe tbody tr th:only-of-type {\n",
       "        vertical-align: middle;\n",
       "    }\n",
       "\n",
       "    .dataframe tbody tr th {\n",
       "        vertical-align: top;\n",
       "    }\n",
       "\n",
       "    .dataframe thead th {\n",
       "        text-align: right;\n",
       "    }\n",
       "</style>\n",
       "<table border=\"1\" class=\"dataframe\">\n",
       "  <thead>\n",
       "    <tr style=\"text-align: right;\">\n",
       "      <th></th>\n",
       "      <th>municipality</th>\n",
       "      <th>2008</th>\n",
       "      <th>2009</th>\n",
       "      <th>2010</th>\n",
       "      <th>2011</th>\n",
       "      <th>2012</th>\n",
       "      <th>2013</th>\n",
       "      <th>2014</th>\n",
       "      <th>2015</th>\n",
       "      <th>2016</th>\n",
       "      <th>2017</th>\n",
       "    </tr>\n",
       "  </thead>\n",
       "  <tbody>\n",
       "    <tr>\n",
       "      <th>3</th>\n",
       "      <td>Copenhagen</td>\n",
       "      <td>72.5</td>\n",
       "      <td>70.0</td>\n",
       "      <td>69.7</td>\n",
       "      <td>69.6</td>\n",
       "      <td>69.4</td>\n",
       "      <td>69.7</td>\n",
       "      <td>70.0</td>\n",
       "      <td>70.8</td>\n",
       "      <td>71.5</td>\n",
       "      <td>72.2</td>\n",
       "    </tr>\n",
       "    <tr>\n",
       "      <th>4</th>\n",
       "      <td>Frederiksberg</td>\n",
       "      <td>75.6</td>\n",
       "      <td>73.7</td>\n",
       "      <td>72.7</td>\n",
       "      <td>72.8</td>\n",
       "      <td>73.0</td>\n",
       "      <td>73.3</td>\n",
       "      <td>73.5</td>\n",
       "      <td>74.0</td>\n",
       "      <td>74.7</td>\n",
       "      <td>75.6</td>\n",
       "    </tr>\n",
       "    <tr>\n",
       "      <th>5</th>\n",
       "      <td>Dragør</td>\n",
       "      <td>80.5</td>\n",
       "      <td>78.8</td>\n",
       "      <td>78.5</td>\n",
       "      <td>78.5</td>\n",
       "      <td>78.7</td>\n",
       "      <td>78.7</td>\n",
       "      <td>78.9</td>\n",
       "      <td>78.6</td>\n",
       "      <td>79.2</td>\n",
       "      <td>80.4</td>\n",
       "    </tr>\n",
       "    <tr>\n",
       "      <th>6</th>\n",
       "      <td>Tårnby</td>\n",
       "      <td>79.0</td>\n",
       "      <td>76.3</td>\n",
       "      <td>75.4</td>\n",
       "      <td>75.8</td>\n",
       "      <td>75.4</td>\n",
       "      <td>75.8</td>\n",
       "      <td>75.7</td>\n",
       "      <td>76.5</td>\n",
       "      <td>77.4</td>\n",
       "      <td>77.6</td>\n",
       "    </tr>\n",
       "    <tr>\n",
       "      <th>8</th>\n",
       "      <td>Albertslund</td>\n",
       "      <td>73.1</td>\n",
       "      <td>69.2</td>\n",
       "      <td>67.5</td>\n",
       "      <td>67.4</td>\n",
       "      <td>66.5</td>\n",
       "      <td>67.0</td>\n",
       "      <td>67.4</td>\n",
       "      <td>68.7</td>\n",
       "      <td>68.8</td>\n",
       "      <td>70.2</td>\n",
       "    </tr>\n",
       "  </tbody>\n",
       "</table>\n",
       "</div>"
      ],
      "text/plain": [
       "    municipality  2008  2009  2010  2011  2012  2013  2014  2015  2016  2017\n",
       "3     Copenhagen  72.5  70.0  69.7  69.6  69.4  69.7  70.0  70.8  71.5  72.2\n",
       "4  Frederiksberg  75.6  73.7  72.7  72.8  73.0  73.3  73.5  74.0  74.7  75.6\n",
       "5         Dragør  80.5  78.8  78.5  78.5  78.7  78.7  78.9  78.6  79.2  80.4\n",
       "6         Tårnby  79.0  76.3  75.4  75.8  75.4  75.8  75.7  76.5  77.4  77.6\n",
       "8    Albertslund  73.1  69.2  67.5  67.4  66.5  67.0  67.4  68.7  68.8  70.2"
      ]
     },
     "execution_count": 4,
     "metadata": {},
     "output_type": "execute_result"
    }
   ],
   "source": [
    "empl = dataproject.only_keep_municipalities(empl)\n",
    "empl.head()"
   ]
  },
  {
   "cell_type": "markdown",
   "metadata": {},
   "source": [
    "**Convert the dataset to long format**:"
   ]
  },
  {
   "cell_type": "code",
   "execution_count": 5,
   "metadata": {},
   "outputs": [
    {
     "data": {
      "text/html": [
       "<div>\n",
       "<style scoped>\n",
       "    .dataframe tbody tr th:only-of-type {\n",
       "        vertical-align: middle;\n",
       "    }\n",
       "\n",
       "    .dataframe tbody tr th {\n",
       "        vertical-align: top;\n",
       "    }\n",
       "\n",
       "    .dataframe thead th {\n",
       "        text-align: right;\n",
       "    }\n",
       "</style>\n",
       "<table border=\"1\" class=\"dataframe\">\n",
       "  <thead>\n",
       "    <tr style=\"text-align: right;\">\n",
       "      <th></th>\n",
       "      <th>municipality</th>\n",
       "      <th>year</th>\n",
       "      <th>employment</th>\n",
       "    </tr>\n",
       "  </thead>\n",
       "  <tbody>\n",
       "    <tr>\n",
       "      <th>0</th>\n",
       "      <td>Copenhagen</td>\n",
       "      <td>2008</td>\n",
       "      <td>72.5</td>\n",
       "    </tr>\n",
       "    <tr>\n",
       "      <th>1</th>\n",
       "      <td>Frederiksberg</td>\n",
       "      <td>2008</td>\n",
       "      <td>75.6</td>\n",
       "    </tr>\n",
       "    <tr>\n",
       "      <th>2</th>\n",
       "      <td>Dragør</td>\n",
       "      <td>2008</td>\n",
       "      <td>80.5</td>\n",
       "    </tr>\n",
       "    <tr>\n",
       "      <th>3</th>\n",
       "      <td>Tårnby</td>\n",
       "      <td>2008</td>\n",
       "      <td>79.0</td>\n",
       "    </tr>\n",
       "    <tr>\n",
       "      <th>4</th>\n",
       "      <td>Albertslund</td>\n",
       "      <td>2008</td>\n",
       "      <td>73.1</td>\n",
       "    </tr>\n",
       "  </tbody>\n",
       "</table>\n",
       "</div>"
      ],
      "text/plain": [
       "    municipality  year  employment\n",
       "0     Copenhagen  2008        72.5\n",
       "1  Frederiksberg  2008        75.6\n",
       "2         Dragør  2008        80.5\n",
       "3         Tårnby  2008        79.0\n",
       "4    Albertslund  2008        73.1"
      ]
     },
     "execution_count": 5,
     "metadata": {},
     "output_type": "execute_result"
    }
   ],
   "source": [
    "# a. rename year columns\n",
    "mydict = {str(i):f'employment{i}' for i in range(2008,2018)}\n",
    "empl.rename(columns = mydict, inplace=True)\n",
    "\n",
    "# b. convert to long\n",
    "empl_long = pd.wide_to_long(empl, stubnames='employment', i='municipality', j='year').reset_index()\n",
    "\n",
    "# c. show\n",
    "empl_long.head()"
   ]
  },
  {
   "cell_type": "markdown",
   "metadata": {},
   "source": [
    "## Income data"
   ]
  },
  {
   "cell_type": "markdown",
   "metadata": {},
   "source": [
    "**Read the income data** in ``INDKP101.xlsx`` and **clean it**:"
   ]
  },
  {
   "cell_type": "code",
   "execution_count": 6,
   "metadata": {},
   "outputs": [
    {
     "data": {
      "text/html": [
       "<div>\n",
       "<style scoped>\n",
       "    .dataframe tbody tr th:only-of-type {\n",
       "        vertical-align: middle;\n",
       "    }\n",
       "\n",
       "    .dataframe tbody tr th {\n",
       "        vertical-align: top;\n",
       "    }\n",
       "\n",
       "    .dataframe thead th {\n",
       "        text-align: right;\n",
       "    }\n",
       "</style>\n",
       "<table border=\"1\" class=\"dataframe\">\n",
       "  <thead>\n",
       "    <tr style=\"text-align: right;\">\n",
       "      <th></th>\n",
       "      <th>municipality</th>\n",
       "      <th>year</th>\n",
       "      <th>income</th>\n",
       "    </tr>\n",
       "  </thead>\n",
       "  <tbody>\n",
       "    <tr>\n",
       "      <th>0</th>\n",
       "      <td>Copenhagen</td>\n",
       "      <td>1987</td>\n",
       "      <td>75356</td>\n",
       "    </tr>\n",
       "    <tr>\n",
       "      <th>1</th>\n",
       "      <td>Frederiksberg</td>\n",
       "      <td>1987</td>\n",
       "      <td>85428</td>\n",
       "    </tr>\n",
       "    <tr>\n",
       "      <th>2</th>\n",
       "      <td>Dragør</td>\n",
       "      <td>1987</td>\n",
       "      <td>97966</td>\n",
       "    </tr>\n",
       "    <tr>\n",
       "      <th>3</th>\n",
       "      <td>Tårnby</td>\n",
       "      <td>1987</td>\n",
       "      <td>87598</td>\n",
       "    </tr>\n",
       "    <tr>\n",
       "      <th>4</th>\n",
       "      <td>Albertslund</td>\n",
       "      <td>1987</td>\n",
       "      <td>83540</td>\n",
       "    </tr>\n",
       "  </tbody>\n",
       "</table>\n",
       "</div>"
      ],
      "text/plain": [
       "    municipality  year  income\n",
       "0     Copenhagen  1987   75356\n",
       "1  Frederiksberg  1987   85428\n",
       "2         Dragør  1987   97966\n",
       "3         Tårnby  1987   87598\n",
       "4    Albertslund  1987   83540"
      ]
     },
     "execution_count": 6,
     "metadata": {},
     "output_type": "execute_result"
    }
   ],
   "source": [
    "# a. load\n",
    "inc = pd.read_excel('INDKP101.xlsx', skiprows=2)\n",
    "\n",
    "# b. drop and rename columns\n",
    "inc.drop([f'Unnamed: {i}' for i in range(3)], axis=1, inplace=True)\n",
    "inc.rename(columns = {'Unnamed: 3':'municipality'}, inplace=True)\n",
    "\n",
    "# c. drop rows with missing\n",
    "inc.dropna(inplace=True)\n",
    "\n",
    "# d. remove non-municipalities\n",
    "inc = dataproject.only_keep_municipalities(inc)\n",
    "\n",
    "# e. convert to long\n",
    "inc.rename(columns = {str(i):f'income{i}' for i in range(1986,2018)}, inplace=True)\n",
    "inc_long = pd.wide_to_long(inc, stubnames='income', i='municipality', j='year').reset_index()\n",
    "\n",
    "# f. show\n",
    "inc_long.head(5)"
   ]
  },
  {
   "cell_type": "markdown",
   "metadata": {},
   "source": [
    "> **Note:** The function ``dataproject.only_keep_municipalities()`` is used on both the employment and the income datasets."
   ]
  },
  {
   "cell_type": "markdown",
   "metadata": {},
   "source": [
    "## Explore data set"
   ]
  },
  {
   "cell_type": "markdown",
   "metadata": {},
   "source": [
    "In order to be able to **explore the raw data**, we here provide an **interactive plot** to show, respectively, the employment and income level in each municipality"
   ]
  },
  {
   "cell_type": "markdown",
   "metadata": {},
   "source": [
    "The **static plot** is:"
   ]
  },
  {
   "cell_type": "code",
   "execution_count": 7,
   "metadata": {},
   "outputs": [],
   "source": [
    "def plot_empl_inc(empl,inc,dataset,municipality): \n",
    "    \n",
    "    if dataset == 'Employment':\n",
    "        df = empl\n",
    "        y = 'employment'\n",
    "    else:\n",
    "        df = inc\n",
    "        y = 'income'\n",
    "    \n",
    "    I = df['municipality'] == municipality\n",
    "    ax = df.loc[I,:].plot(x='year', y=y, style='-o')"
   ]
  },
  {
   "cell_type": "markdown",
   "metadata": {},
   "source": [
    "The **interactive plot** is:"
   ]
  },
  {
   "cell_type": "code",
   "execution_count": 8,
   "metadata": {},
   "outputs": [
    {
     "data": {
      "application/vnd.jupyter.widget-view+json": {
       "model_id": "9b9a354a078c42478b80140660178fc8",
       "version_major": 2,
       "version_minor": 0
      },
      "text/plain": [
       "interactive(children=(Dropdown(description='Dataset', options=('Employment', 'Income'), value='Employment'), D…"
      ]
     },
     "metadata": {},
     "output_type": "display_data"
    }
   ],
   "source": [
    "widgets.interact(plot_empl_inc, \n",
    "    \n",
    "    empl = widgets.fixed(empl_long),\n",
    "    inc = widgets.fixed(inc_long),\n",
    "    dataset = widgets.Dropdown(description='Dataset', \n",
    "                               options=['Employment','Income']),\n",
    "    municipality = widgets.Dropdown(description='Municipality', \n",
    "                                    options=empl_long.municipality.unique())\n",
    "                 \n",
    "); "
   ]
  },
  {
   "cell_type": "markdown",
   "metadata": {},
   "source": [
    "ADD SOMETHING HERE IF THE READER SHOULD KNOW THAT E.G. SOME MUNICIPALITY IS SPECIAL."
   ]
  },
  {
   "cell_type": "markdown",
   "metadata": {},
   "source": [
    "# Merge data sets"
   ]
  },
  {
   "cell_type": "markdown",
   "metadata": {},
   "source": [
    "We now create a data set with **municpalities which are in both of our data sets**. We can illustrate this **merge** as:"
   ]
  },
  {
   "cell_type": "code",
   "execution_count": 9,
   "metadata": {},
   "outputs": [
    {
     "data": {
      "image/png": "[encoded data removed]",
      "text/plain": [
       "<Figure size 1080x504 with 1 Axes>"
      ]
     },
     "metadata": {},
     "output_type": "display_data"
    }
   ],
   "source": [
    "plt.figure(figsize=(15,7))\n",
    "v = venn2(subsets = (4, 4, 10), set_labels = ('inc', 'empl'))\n",
    "v.get_label_by_id('100').set_text('dropped')\n",
    "v.get_label_by_id('010').set_text('dropped' )\n",
    "v.get_label_by_id('110').set_text('included')\n",
    "plt.show()"
   ]
  },
  {
   "cell_type": "code",
   "execution_count": 10,
   "metadata": {},
   "outputs": [
    {
     "name": "stdout",
     "output_type": "stream",
     "text": [
      "Number of municipalities = 98\n",
      "Number of years          = 10\n"
     ]
    }
   ],
   "source": [
    "merged = pd.merge(empl_long, inc_long, how='inner',on=['municipality','year'])\n",
    "\n",
    "print(f'Number of municipalities = {len(merged.municipality.unique())}')\n",
    "print(f'Number of years          = {len(merged.year.unique())}')"
   ]
  },
  {
   "cell_type": "markdown",
   "metadata": {},
   "source": [
    "# Analysis"
   ]
  },
  {
   "cell_type": "markdown",
   "metadata": {},
   "source": [
    "To get a quick overview of the data, we show some **summary statistics by year**:"
   ]
  },
  {
   "cell_type": "code",
   "execution_count": 11,
   "metadata": {},
   "outputs": [
    {
     "data": {
      "text/html": [
       "<div>\n",
       "<style scoped>\n",
       "    .dataframe tbody tr th:only-of-type {\n",
       "        vertical-align: middle;\n",
       "    }\n",
       "\n",
       "    .dataframe tbody tr th {\n",
       "        vertical-align: top;\n",
       "    }\n",
       "\n",
       "    .dataframe thead tr th {\n",
       "        text-align: left;\n",
       "    }\n",
       "\n",
       "    .dataframe thead tr:last-of-type th {\n",
       "        text-align: right;\n",
       "    }\n",
       "</style>\n",
       "<table border=\"1\" class=\"dataframe\">\n",
       "  <thead>\n",
       "    <tr>\n",
       "      <th></th>\n",
       "      <th colspan=\"2\" halign=\"left\">employment</th>\n",
       "      <th colspan=\"2\" halign=\"left\">income</th>\n",
       "    </tr>\n",
       "    <tr>\n",
       "      <th></th>\n",
       "      <th>mean</th>\n",
       "      <th>std</th>\n",
       "      <th>mean</th>\n",
       "      <th>std</th>\n",
       "    </tr>\n",
       "    <tr>\n",
       "      <th>year</th>\n",
       "      <th></th>\n",
       "      <th></th>\n",
       "      <th></th>\n",
       "      <th></th>\n",
       "    </tr>\n",
       "  </thead>\n",
       "  <tbody>\n",
       "    <tr>\n",
       "      <th>2008</th>\n",
       "      <td>76.77</td>\n",
       "      <td>3.47</td>\n",
       "      <td>178055.96</td>\n",
       "      <td>23177.06</td>\n",
       "    </tr>\n",
       "    <tr>\n",
       "      <th>2009</th>\n",
       "      <td>73.51</td>\n",
       "      <td>3.53</td>\n",
       "      <td>180520.09</td>\n",
       "      <td>20874.01</td>\n",
       "    </tr>\n",
       "    <tr>\n",
       "      <th>2010</th>\n",
       "      <td>72.85</td>\n",
       "      <td>3.60</td>\n",
       "      <td>196646.87</td>\n",
       "      <td>27451.01</td>\n",
       "    </tr>\n",
       "    <tr>\n",
       "      <th>2011</th>\n",
       "      <td>72.64</td>\n",
       "      <td>3.68</td>\n",
       "      <td>200888.37</td>\n",
       "      <td>29387.03</td>\n",
       "    </tr>\n",
       "    <tr>\n",
       "      <th>2012</th>\n",
       "      <td>72.04</td>\n",
       "      <td>3.82</td>\n",
       "      <td>206097.96</td>\n",
       "      <td>30727.89</td>\n",
       "    </tr>\n",
       "    <tr>\n",
       "      <th>2013</th>\n",
       "      <td>72.12</td>\n",
       "      <td>3.71</td>\n",
       "      <td>211694.96</td>\n",
       "      <td>32507.07</td>\n",
       "    </tr>\n",
       "    <tr>\n",
       "      <th>2014</th>\n",
       "      <td>72.46</td>\n",
       "      <td>3.67</td>\n",
       "      <td>215872.63</td>\n",
       "      <td>34819.29</td>\n",
       "    </tr>\n",
       "    <tr>\n",
       "      <th>2015</th>\n",
       "      <td>72.85</td>\n",
       "      <td>3.66</td>\n",
       "      <td>221536.18</td>\n",
       "      <td>38417.81</td>\n",
       "    </tr>\n",
       "    <tr>\n",
       "      <th>2016</th>\n",
       "      <td>73.63</td>\n",
       "      <td>3.54</td>\n",
       "      <td>224775.65</td>\n",
       "      <td>38432.09</td>\n",
       "    </tr>\n",
       "    <tr>\n",
       "      <th>2017</th>\n",
       "      <td>74.40</td>\n",
       "      <td>3.51</td>\n",
       "      <td>231230.17</td>\n",
       "      <td>39107.17</td>\n",
       "    </tr>\n",
       "  </tbody>\n",
       "</table>\n",
       "</div>"
      ],
      "text/plain": [
       "     employment           income          \n",
       "           mean   std       mean       std\n",
       "year                                      \n",
       "2008      76.77  3.47  178055.96  23177.06\n",
       "2009      73.51  3.53  180520.09  20874.01\n",
       "2010      72.85  3.60  196646.87  27451.01\n",
       "2011      72.64  3.68  200888.37  29387.03\n",
       "2012      72.04  3.82  206097.96  30727.89\n",
       "2013      72.12  3.71  211694.96  32507.07\n",
       "2014      72.46  3.67  215872.63  34819.29\n",
       "2015      72.85  3.66  221536.18  38417.81\n",
       "2016      73.63  3.54  224775.65  38432.09\n",
       "2017      74.40  3.51  231230.17  39107.17"
      ]
     },
     "execution_count": 11,
     "metadata": {},
     "output_type": "execute_result"
    }
   ],
   "source": [
    "merged.groupby('year').agg(['mean','std']).round(2)"
   ]
  },
  {
   "cell_type": "markdown",
   "metadata": {},
   "source": [
    "ADD FURTHER ANALYSIS. EXPLAIN THE CODE BRIEFLY AND SUMMARIZE THE RESULTS."
   ]
  },
  {
   "cell_type": "markdown",
   "metadata": {},
   "source": [
    "# Conclusion"
   ]
  },
  {
   "cell_type": "markdown",
   "metadata": {},
   "source": [
    "ADD CONCISE CONLUSION."
   ]
  }
 ],
 "metadata": {
  "kernelspec": {
   "display_name": "Python 3",
   "language": "python",
   "name": "python3"
  },
  "language_info": {
   "codemirror_mode": {
    "name": "ipython",
    "version": 3
   },
   "file_extension": ".py",
   "mimetype": "text/x-python",
   "name": "python",
   "nbconvert_exporter": "python",
   "pygments_lexer": "ipython3",
   "version": "3.7.7"
  },
  "toc-autonumbering": true
 },
 "nbformat": 4,
 "nbformat_minor": 4
}
